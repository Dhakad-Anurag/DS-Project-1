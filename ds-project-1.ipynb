{
 "cells": [
  {
   "cell_type": "code",
   "execution_count": 1,
   "id": "67441762",
   "metadata": {
    "_cell_guid": "b1076dfc-b9ad-4769-8c92-a6c4dae69d19",
    "_uuid": "8f2839f25d086af736a60e9eeb907d3b93b6e0e5",
    "execution": {
     "iopub.execute_input": "2025-10-08T04:41:56.064342Z",
     "iopub.status.busy": "2025-10-08T04:41:56.064024Z",
     "iopub.status.idle": "2025-10-08T04:42:05.957991Z",
     "shell.execute_reply": "2025-10-08T04:42:05.956851Z"
    },
    "papermill": {
     "duration": 9.904055,
     "end_time": "2025-10-08T04:42:05.959829",
     "exception": false,
     "start_time": "2025-10-08T04:41:56.055774",
     "status": "completed"
    },
    "tags": []
   },
   "outputs": [],
   "source": [
    "import pandas as pd \n",
    "import numpy as np\n",
    "import seaborn as sns\n",
    "import matplotlib.pyplot as plt\n",
    "import torch "
   ]
  },
  {
   "cell_type": "code",
   "execution_count": 2,
   "id": "37a50d92",
   "metadata": {
    "execution": {
     "iopub.execute_input": "2025-10-08T04:42:05.974798Z",
     "iopub.status.busy": "2025-10-08T04:42:05.974255Z",
     "iopub.status.idle": "2025-10-08T04:42:06.033807Z",
     "shell.execute_reply": "2025-10-08T04:42:06.032353Z"
    },
    "papermill": {
     "duration": 0.068699,
     "end_time": "2025-10-08T04:42:06.035821",
     "exception": false,
     "start_time": "2025-10-08T04:42:05.967122",
     "status": "completed"
    },
    "tags": []
   },
   "outputs": [],
   "source": [
    "data = pd.read_csv(\"/kaggle/input/college-student-placement-factors-dataset/college_student_placement_dataset.csv\")"
   ]
  },
  {
   "cell_type": "code",
   "execution_count": 3,
   "id": "b3597971",
   "metadata": {
    "execution": {
     "iopub.execute_input": "2025-10-08T04:42:06.049248Z",
     "iopub.status.busy": "2025-10-08T04:42:06.048903Z",
     "iopub.status.idle": "2025-10-08T04:42:06.079617Z",
     "shell.execute_reply": "2025-10-08T04:42:06.078474Z"
    },
    "papermill": {
     "duration": 0.039396,
     "end_time": "2025-10-08T04:42:06.081333",
     "exception": false,
     "start_time": "2025-10-08T04:42:06.041937",
     "status": "completed"
    },
    "tags": []
   },
   "outputs": [
    {
     "data": {
      "text/html": [
       "<div>\n",
       "<style scoped>\n",
       "    .dataframe tbody tr th:only-of-type {\n",
       "        vertical-align: middle;\n",
       "    }\n",
       "\n",
       "    .dataframe tbody tr th {\n",
       "        vertical-align: top;\n",
       "    }\n",
       "\n",
       "    .dataframe thead th {\n",
       "        text-align: right;\n",
       "    }\n",
       "</style>\n",
       "<table border=\"1\" class=\"dataframe\">\n",
       "  <thead>\n",
       "    <tr style=\"text-align: right;\">\n",
       "      <th></th>\n",
       "      <th>College_ID</th>\n",
       "      <th>IQ</th>\n",
       "      <th>Prev_Sem_Result</th>\n",
       "      <th>CGPA</th>\n",
       "      <th>Academic_Performance</th>\n",
       "      <th>Internship_Experience</th>\n",
       "      <th>Extra_Curricular_Score</th>\n",
       "      <th>Communication_Skills</th>\n",
       "      <th>Projects_Completed</th>\n",
       "      <th>Placement</th>\n",
       "    </tr>\n",
       "  </thead>\n",
       "  <tbody>\n",
       "    <tr>\n",
       "      <th>0</th>\n",
       "      <td>CLG0030</td>\n",
       "      <td>107</td>\n",
       "      <td>6.61</td>\n",
       "      <td>6.28</td>\n",
       "      <td>8</td>\n",
       "      <td>No</td>\n",
       "      <td>8</td>\n",
       "      <td>8</td>\n",
       "      <td>4</td>\n",
       "      <td>No</td>\n",
       "    </tr>\n",
       "    <tr>\n",
       "      <th>1</th>\n",
       "      <td>CLG0061</td>\n",
       "      <td>97</td>\n",
       "      <td>5.52</td>\n",
       "      <td>5.37</td>\n",
       "      <td>8</td>\n",
       "      <td>No</td>\n",
       "      <td>7</td>\n",
       "      <td>8</td>\n",
       "      <td>0</td>\n",
       "      <td>No</td>\n",
       "    </tr>\n",
       "    <tr>\n",
       "      <th>2</th>\n",
       "      <td>CLG0036</td>\n",
       "      <td>109</td>\n",
       "      <td>5.36</td>\n",
       "      <td>5.83</td>\n",
       "      <td>9</td>\n",
       "      <td>No</td>\n",
       "      <td>3</td>\n",
       "      <td>1</td>\n",
       "      <td>1</td>\n",
       "      <td>No</td>\n",
       "    </tr>\n",
       "    <tr>\n",
       "      <th>3</th>\n",
       "      <td>CLG0055</td>\n",
       "      <td>122</td>\n",
       "      <td>5.47</td>\n",
       "      <td>5.75</td>\n",
       "      <td>6</td>\n",
       "      <td>Yes</td>\n",
       "      <td>1</td>\n",
       "      <td>6</td>\n",
       "      <td>1</td>\n",
       "      <td>No</td>\n",
       "    </tr>\n",
       "    <tr>\n",
       "      <th>4</th>\n",
       "      <td>CLG0004</td>\n",
       "      <td>96</td>\n",
       "      <td>7.91</td>\n",
       "      <td>7.69</td>\n",
       "      <td>7</td>\n",
       "      <td>No</td>\n",
       "      <td>8</td>\n",
       "      <td>10</td>\n",
       "      <td>2</td>\n",
       "      <td>No</td>\n",
       "    </tr>\n",
       "  </tbody>\n",
       "</table>\n",
       "</div>"
      ],
      "text/plain": [
       "  College_ID   IQ  Prev_Sem_Result  CGPA  Academic_Performance  \\\n",
       "0    CLG0030  107             6.61  6.28                     8   \n",
       "1    CLG0061   97             5.52  5.37                     8   \n",
       "2    CLG0036  109             5.36  5.83                     9   \n",
       "3    CLG0055  122             5.47  5.75                     6   \n",
       "4    CLG0004   96             7.91  7.69                     7   \n",
       "\n",
       "  Internship_Experience  Extra_Curricular_Score  Communication_Skills  \\\n",
       "0                    No                       8                     8   \n",
       "1                    No                       7                     8   \n",
       "2                    No                       3                     1   \n",
       "3                   Yes                       1                     6   \n",
       "4                    No                       8                    10   \n",
       "\n",
       "   Projects_Completed Placement  \n",
       "0                   4        No  \n",
       "1                   0        No  \n",
       "2                   1        No  \n",
       "3                   1        No  \n",
       "4                   2        No  "
      ]
     },
     "execution_count": 3,
     "metadata": {},
     "output_type": "execute_result"
    }
   ],
   "source": [
    "data.head()"
   ]
  },
  {
   "cell_type": "code",
   "execution_count": 4,
   "id": "94801197",
   "metadata": {
    "execution": {
     "iopub.execute_input": "2025-10-08T04:42:06.095703Z",
     "iopub.status.busy": "2025-10-08T04:42:06.095348Z",
     "iopub.status.idle": "2025-10-08T04:42:06.109999Z",
     "shell.execute_reply": "2025-10-08T04:42:06.108931Z"
    },
    "papermill": {
     "duration": 0.023849,
     "end_time": "2025-10-08T04:42:06.111609",
     "exception": false,
     "start_time": "2025-10-08T04:42:06.087760",
     "status": "completed"
    },
    "tags": []
   },
   "outputs": [
    {
     "data": {
      "text/html": [
       "<div>\n",
       "<style scoped>\n",
       "    .dataframe tbody tr th:only-of-type {\n",
       "        vertical-align: middle;\n",
       "    }\n",
       "\n",
       "    .dataframe tbody tr th {\n",
       "        vertical-align: top;\n",
       "    }\n",
       "\n",
       "    .dataframe thead th {\n",
       "        text-align: right;\n",
       "    }\n",
       "</style>\n",
       "<table border=\"1\" class=\"dataframe\">\n",
       "  <thead>\n",
       "    <tr style=\"text-align: right;\">\n",
       "      <th></th>\n",
       "      <th>College_ID</th>\n",
       "      <th>IQ</th>\n",
       "      <th>Prev_Sem_Result</th>\n",
       "      <th>CGPA</th>\n",
       "      <th>Academic_Performance</th>\n",
       "      <th>Internship_Experience</th>\n",
       "      <th>Extra_Curricular_Score</th>\n",
       "      <th>Communication_Skills</th>\n",
       "      <th>Projects_Completed</th>\n",
       "      <th>Placement</th>\n",
       "    </tr>\n",
       "  </thead>\n",
       "  <tbody>\n",
       "    <tr>\n",
       "      <th>9995</th>\n",
       "      <td>CLG0021</td>\n",
       "      <td>119</td>\n",
       "      <td>8.41</td>\n",
       "      <td>8.29</td>\n",
       "      <td>4</td>\n",
       "      <td>No</td>\n",
       "      <td>1</td>\n",
       "      <td>8</td>\n",
       "      <td>0</td>\n",
       "      <td>Yes</td>\n",
       "    </tr>\n",
       "    <tr>\n",
       "      <th>9996</th>\n",
       "      <td>CLG0098</td>\n",
       "      <td>70</td>\n",
       "      <td>9.25</td>\n",
       "      <td>9.34</td>\n",
       "      <td>7</td>\n",
       "      <td>No</td>\n",
       "      <td>0</td>\n",
       "      <td>7</td>\n",
       "      <td>2</td>\n",
       "      <td>No</td>\n",
       "    </tr>\n",
       "    <tr>\n",
       "      <th>9997</th>\n",
       "      <td>CLG0066</td>\n",
       "      <td>89</td>\n",
       "      <td>6.08</td>\n",
       "      <td>6.25</td>\n",
       "      <td>3</td>\n",
       "      <td>Yes</td>\n",
       "      <td>3</td>\n",
       "      <td>9</td>\n",
       "      <td>5</td>\n",
       "      <td>No</td>\n",
       "    </tr>\n",
       "    <tr>\n",
       "      <th>9998</th>\n",
       "      <td>CLG0045</td>\n",
       "      <td>107</td>\n",
       "      <td>8.77</td>\n",
       "      <td>8.92</td>\n",
       "      <td>3</td>\n",
       "      <td>No</td>\n",
       "      <td>7</td>\n",
       "      <td>5</td>\n",
       "      <td>1</td>\n",
       "      <td>No</td>\n",
       "    </tr>\n",
       "    <tr>\n",
       "      <th>9999</th>\n",
       "      <td>CLG0060</td>\n",
       "      <td>109</td>\n",
       "      <td>9.41</td>\n",
       "      <td>9.77</td>\n",
       "      <td>8</td>\n",
       "      <td>No</td>\n",
       "      <td>3</td>\n",
       "      <td>5</td>\n",
       "      <td>5</td>\n",
       "      <td>No</td>\n",
       "    </tr>\n",
       "  </tbody>\n",
       "</table>\n",
       "</div>"
      ],
      "text/plain": [
       "     College_ID   IQ  Prev_Sem_Result  CGPA  Academic_Performance  \\\n",
       "9995    CLG0021  119             8.41  8.29                     4   \n",
       "9996    CLG0098   70             9.25  9.34                     7   \n",
       "9997    CLG0066   89             6.08  6.25                     3   \n",
       "9998    CLG0045  107             8.77  8.92                     3   \n",
       "9999    CLG0060  109             9.41  9.77                     8   \n",
       "\n",
       "     Internship_Experience  Extra_Curricular_Score  Communication_Skills  \\\n",
       "9995                    No                       1                     8   \n",
       "9996                    No                       0                     7   \n",
       "9997                   Yes                       3                     9   \n",
       "9998                    No                       7                     5   \n",
       "9999                    No                       3                     5   \n",
       "\n",
       "      Projects_Completed Placement  \n",
       "9995                   0       Yes  \n",
       "9996                   2        No  \n",
       "9997                   5        No  \n",
       "9998                   1        No  \n",
       "9999                   5        No  "
      ]
     },
     "execution_count": 4,
     "metadata": {},
     "output_type": "execute_result"
    }
   ],
   "source": [
    "data.tail()"
   ]
  },
  {
   "cell_type": "code",
   "execution_count": 5,
   "id": "69854883",
   "metadata": {
    "execution": {
     "iopub.execute_input": "2025-10-08T04:42:06.125643Z",
     "iopub.status.busy": "2025-10-08T04:42:06.125303Z",
     "iopub.status.idle": "2025-10-08T04:42:06.132089Z",
     "shell.execute_reply": "2025-10-08T04:42:06.130801Z"
    },
    "papermill": {
     "duration": 0.015778,
     "end_time": "2025-10-08T04:42:06.133945",
     "exception": false,
     "start_time": "2025-10-08T04:42:06.118167",
     "status": "completed"
    },
    "tags": []
   },
   "outputs": [
    {
     "data": {
      "text/plain": [
       "(10000, 10)"
      ]
     },
     "execution_count": 5,
     "metadata": {},
     "output_type": "execute_result"
    }
   ],
   "source": [
    "data.shape\n"
   ]
  },
  {
   "cell_type": "code",
   "execution_count": 6,
   "id": "fd0c9138",
   "metadata": {
    "execution": {
     "iopub.execute_input": "2025-10-08T04:42:06.148164Z",
     "iopub.status.busy": "2025-10-08T04:42:06.147853Z",
     "iopub.status.idle": "2025-10-08T04:42:06.155988Z",
     "shell.execute_reply": "2025-10-08T04:42:06.154829Z"
    },
    "papermill": {
     "duration": 0.017434,
     "end_time": "2025-10-08T04:42:06.157744",
     "exception": false,
     "start_time": "2025-10-08T04:42:06.140310",
     "status": "completed"
    },
    "tags": []
   },
   "outputs": [
    {
     "data": {
      "text/plain": [
       "Index(['College_ID', 'IQ', 'Prev_Sem_Result', 'CGPA', 'Academic_Performance',\n",
       "       'Internship_Experience', 'Extra_Curricular_Score',\n",
       "       'Communication_Skills', 'Projects_Completed', 'Placement'],\n",
       "      dtype='object')"
      ]
     },
     "execution_count": 6,
     "metadata": {},
     "output_type": "execute_result"
    }
   ],
   "source": [
    "data.columns"
   ]
  },
  {
   "cell_type": "code",
   "execution_count": 7,
   "id": "cb171eba",
   "metadata": {
    "execution": {
     "iopub.execute_input": "2025-10-08T04:42:06.172613Z",
     "iopub.status.busy": "2025-10-08T04:42:06.172219Z",
     "iopub.status.idle": "2025-10-08T04:42:06.177502Z",
     "shell.execute_reply": "2025-10-08T04:42:06.176407Z"
    },
    "papermill": {
     "duration": 0.014581,
     "end_time": "2025-10-08T04:42:06.179566",
     "exception": false,
     "start_time": "2025-10-08T04:42:06.164985",
     "status": "completed"
    },
    "tags": []
   },
   "outputs": [],
   "source": [
    "def strip_clg(x):\n",
    "    return int(x[3:])"
   ]
  },
  {
   "cell_type": "code",
   "execution_count": 8,
   "id": "5d43a558",
   "metadata": {
    "execution": {
     "iopub.execute_input": "2025-10-08T04:42:06.195089Z",
     "iopub.status.busy": "2025-10-08T04:42:06.194746Z",
     "iopub.status.idle": "2025-10-08T04:42:06.208690Z",
     "shell.execute_reply": "2025-10-08T04:42:06.207284Z"
    },
    "papermill": {
     "duration": 0.024137,
     "end_time": "2025-10-08T04:42:06.210428",
     "exception": false,
     "start_time": "2025-10-08T04:42:06.186291",
     "status": "completed"
    },
    "tags": []
   },
   "outputs": [],
   "source": [
    "data[data.columns[0]]= data[data.columns[0]].apply(strip_clg)"
   ]
  },
  {
   "cell_type": "code",
   "execution_count": 9,
   "id": "1282968a",
   "metadata": {
    "execution": {
     "iopub.execute_input": "2025-10-08T04:42:06.224443Z",
     "iopub.status.busy": "2025-10-08T04:42:06.224122Z",
     "iopub.status.idle": "2025-10-08T04:42:06.237295Z",
     "shell.execute_reply": "2025-10-08T04:42:06.236453Z"
    },
    "papermill": {
     "duration": 0.021953,
     "end_time": "2025-10-08T04:42:06.238844",
     "exception": false,
     "start_time": "2025-10-08T04:42:06.216891",
     "status": "completed"
    },
    "tags": []
   },
   "outputs": [
    {
     "data": {
      "text/html": [
       "<div>\n",
       "<style scoped>\n",
       "    .dataframe tbody tr th:only-of-type {\n",
       "        vertical-align: middle;\n",
       "    }\n",
       "\n",
       "    .dataframe tbody tr th {\n",
       "        vertical-align: top;\n",
       "    }\n",
       "\n",
       "    .dataframe thead th {\n",
       "        text-align: right;\n",
       "    }\n",
       "</style>\n",
       "<table border=\"1\" class=\"dataframe\">\n",
       "  <thead>\n",
       "    <tr style=\"text-align: right;\">\n",
       "      <th></th>\n",
       "      <th>College_ID</th>\n",
       "      <th>IQ</th>\n",
       "      <th>Prev_Sem_Result</th>\n",
       "      <th>CGPA</th>\n",
       "      <th>Academic_Performance</th>\n",
       "      <th>Internship_Experience</th>\n",
       "      <th>Extra_Curricular_Score</th>\n",
       "      <th>Communication_Skills</th>\n",
       "      <th>Projects_Completed</th>\n",
       "      <th>Placement</th>\n",
       "    </tr>\n",
       "  </thead>\n",
       "  <tbody>\n",
       "    <tr>\n",
       "      <th>0</th>\n",
       "      <td>30</td>\n",
       "      <td>107</td>\n",
       "      <td>6.61</td>\n",
       "      <td>6.28</td>\n",
       "      <td>8</td>\n",
       "      <td>No</td>\n",
       "      <td>8</td>\n",
       "      <td>8</td>\n",
       "      <td>4</td>\n",
       "      <td>No</td>\n",
       "    </tr>\n",
       "    <tr>\n",
       "      <th>1</th>\n",
       "      <td>61</td>\n",
       "      <td>97</td>\n",
       "      <td>5.52</td>\n",
       "      <td>5.37</td>\n",
       "      <td>8</td>\n",
       "      <td>No</td>\n",
       "      <td>7</td>\n",
       "      <td>8</td>\n",
       "      <td>0</td>\n",
       "      <td>No</td>\n",
       "    </tr>\n",
       "    <tr>\n",
       "      <th>2</th>\n",
       "      <td>36</td>\n",
       "      <td>109</td>\n",
       "      <td>5.36</td>\n",
       "      <td>5.83</td>\n",
       "      <td>9</td>\n",
       "      <td>No</td>\n",
       "      <td>3</td>\n",
       "      <td>1</td>\n",
       "      <td>1</td>\n",
       "      <td>No</td>\n",
       "    </tr>\n",
       "    <tr>\n",
       "      <th>3</th>\n",
       "      <td>55</td>\n",
       "      <td>122</td>\n",
       "      <td>5.47</td>\n",
       "      <td>5.75</td>\n",
       "      <td>6</td>\n",
       "      <td>Yes</td>\n",
       "      <td>1</td>\n",
       "      <td>6</td>\n",
       "      <td>1</td>\n",
       "      <td>No</td>\n",
       "    </tr>\n",
       "    <tr>\n",
       "      <th>4</th>\n",
       "      <td>4</td>\n",
       "      <td>96</td>\n",
       "      <td>7.91</td>\n",
       "      <td>7.69</td>\n",
       "      <td>7</td>\n",
       "      <td>No</td>\n",
       "      <td>8</td>\n",
       "      <td>10</td>\n",
       "      <td>2</td>\n",
       "      <td>No</td>\n",
       "    </tr>\n",
       "  </tbody>\n",
       "</table>\n",
       "</div>"
      ],
      "text/plain": [
       "   College_ID   IQ  Prev_Sem_Result  CGPA  Academic_Performance  \\\n",
       "0          30  107             6.61  6.28                     8   \n",
       "1          61   97             5.52  5.37                     8   \n",
       "2          36  109             5.36  5.83                     9   \n",
       "3          55  122             5.47  5.75                     6   \n",
       "4           4   96             7.91  7.69                     7   \n",
       "\n",
       "  Internship_Experience  Extra_Curricular_Score  Communication_Skills  \\\n",
       "0                    No                       8                     8   \n",
       "1                    No                       7                     8   \n",
       "2                    No                       3                     1   \n",
       "3                   Yes                       1                     6   \n",
       "4                    No                       8                    10   \n",
       "\n",
       "   Projects_Completed Placement  \n",
       "0                   4        No  \n",
       "1                   0        No  \n",
       "2                   1        No  \n",
       "3                   1        No  \n",
       "4                   2        No  "
      ]
     },
     "execution_count": 9,
     "metadata": {},
     "output_type": "execute_result"
    }
   ],
   "source": [
    "data.head()"
   ]
  },
  {
   "cell_type": "code",
   "execution_count": 10,
   "id": "7e7e01aa",
   "metadata": {
    "execution": {
     "iopub.execute_input": "2025-10-08T04:42:06.253278Z",
     "iopub.status.busy": "2025-10-08T04:42:06.252960Z",
     "iopub.status.idle": "2025-10-08T04:42:06.257820Z",
     "shell.execute_reply": "2025-10-08T04:42:06.256864Z"
    },
    "papermill": {
     "duration": 0.014086,
     "end_time": "2025-10-08T04:42:06.259541",
     "exception": false,
     "start_time": "2025-10-08T04:42:06.245455",
     "status": "completed"
    },
    "tags": []
   },
   "outputs": [],
   "source": [
    "no_yes_dict = {\"No\":0,\"Yes\":1}\n",
    "# no_yes_dict_internship_exp = dict(zip(data[data.columns[5]].unique(),range(data[data.columns[5]],unique().shape[0])))\n",
    "# no_yes_dict_placement = dict(zip(data[data.columns[-1]].unique(),range(data[data.columns[-1]],unique().shape[0])))"
   ]
  },
  {
   "cell_type": "code",
   "execution_count": 11,
   "id": "8aba4175",
   "metadata": {
    "execution": {
     "iopub.execute_input": "2025-10-08T04:42:06.273948Z",
     "iopub.status.busy": "2025-10-08T04:42:06.273390Z",
     "iopub.status.idle": "2025-10-08T04:42:06.282736Z",
     "shell.execute_reply": "2025-10-08T04:42:06.281702Z"
    },
    "papermill": {
     "duration": 0.018531,
     "end_time": "2025-10-08T04:42:06.284576",
     "exception": false,
     "start_time": "2025-10-08T04:42:06.266045",
     "status": "completed"
    },
    "tags": []
   },
   "outputs": [],
   "source": [
    "data[data.columns[5]] = data[data.columns[5]].map(no_yes_dict)"
   ]
  },
  {
   "cell_type": "code",
   "execution_count": 12,
   "id": "8167abeb",
   "metadata": {
    "execution": {
     "iopub.execute_input": "2025-10-08T04:42:06.299803Z",
     "iopub.status.busy": "2025-10-08T04:42:06.299464Z",
     "iopub.status.idle": "2025-10-08T04:42:06.306512Z",
     "shell.execute_reply": "2025-10-08T04:42:06.305306Z"
    },
    "papermill": {
     "duration": 0.016379,
     "end_time": "2025-10-08T04:42:06.308409",
     "exception": false,
     "start_time": "2025-10-08T04:42:06.292030",
     "status": "completed"
    },
    "tags": []
   },
   "outputs": [],
   "source": [
    "data[data.columns[9]] = data[data.columns[9]].map(no_yes_dict)"
   ]
  },
  {
   "cell_type": "code",
   "execution_count": 13,
   "id": "8787e87f",
   "metadata": {
    "execution": {
     "iopub.execute_input": "2025-10-08T04:42:06.322854Z",
     "iopub.status.busy": "2025-10-08T04:42:06.322463Z",
     "iopub.status.idle": "2025-10-08T04:42:06.335963Z",
     "shell.execute_reply": "2025-10-08T04:42:06.334685Z"
    },
    "papermill": {
     "duration": 0.022258,
     "end_time": "2025-10-08T04:42:06.337416",
     "exception": false,
     "start_time": "2025-10-08T04:42:06.315158",
     "status": "completed"
    },
    "tags": []
   },
   "outputs": [
    {
     "data": {
      "text/html": [
       "<div>\n",
       "<style scoped>\n",
       "    .dataframe tbody tr th:only-of-type {\n",
       "        vertical-align: middle;\n",
       "    }\n",
       "\n",
       "    .dataframe tbody tr th {\n",
       "        vertical-align: top;\n",
       "    }\n",
       "\n",
       "    .dataframe thead th {\n",
       "        text-align: right;\n",
       "    }\n",
       "</style>\n",
       "<table border=\"1\" class=\"dataframe\">\n",
       "  <thead>\n",
       "    <tr style=\"text-align: right;\">\n",
       "      <th></th>\n",
       "      <th>College_ID</th>\n",
       "      <th>IQ</th>\n",
       "      <th>Prev_Sem_Result</th>\n",
       "      <th>CGPA</th>\n",
       "      <th>Academic_Performance</th>\n",
       "      <th>Internship_Experience</th>\n",
       "      <th>Extra_Curricular_Score</th>\n",
       "      <th>Communication_Skills</th>\n",
       "      <th>Projects_Completed</th>\n",
       "      <th>Placement</th>\n",
       "    </tr>\n",
       "  </thead>\n",
       "  <tbody>\n",
       "    <tr>\n",
       "      <th>0</th>\n",
       "      <td>30</td>\n",
       "      <td>107</td>\n",
       "      <td>6.61</td>\n",
       "      <td>6.28</td>\n",
       "      <td>8</td>\n",
       "      <td>0</td>\n",
       "      <td>8</td>\n",
       "      <td>8</td>\n",
       "      <td>4</td>\n",
       "      <td>0</td>\n",
       "    </tr>\n",
       "    <tr>\n",
       "      <th>1</th>\n",
       "      <td>61</td>\n",
       "      <td>97</td>\n",
       "      <td>5.52</td>\n",
       "      <td>5.37</td>\n",
       "      <td>8</td>\n",
       "      <td>0</td>\n",
       "      <td>7</td>\n",
       "      <td>8</td>\n",
       "      <td>0</td>\n",
       "      <td>0</td>\n",
       "    </tr>\n",
       "    <tr>\n",
       "      <th>2</th>\n",
       "      <td>36</td>\n",
       "      <td>109</td>\n",
       "      <td>5.36</td>\n",
       "      <td>5.83</td>\n",
       "      <td>9</td>\n",
       "      <td>0</td>\n",
       "      <td>3</td>\n",
       "      <td>1</td>\n",
       "      <td>1</td>\n",
       "      <td>0</td>\n",
       "    </tr>\n",
       "    <tr>\n",
       "      <th>3</th>\n",
       "      <td>55</td>\n",
       "      <td>122</td>\n",
       "      <td>5.47</td>\n",
       "      <td>5.75</td>\n",
       "      <td>6</td>\n",
       "      <td>1</td>\n",
       "      <td>1</td>\n",
       "      <td>6</td>\n",
       "      <td>1</td>\n",
       "      <td>0</td>\n",
       "    </tr>\n",
       "    <tr>\n",
       "      <th>4</th>\n",
       "      <td>4</td>\n",
       "      <td>96</td>\n",
       "      <td>7.91</td>\n",
       "      <td>7.69</td>\n",
       "      <td>7</td>\n",
       "      <td>0</td>\n",
       "      <td>8</td>\n",
       "      <td>10</td>\n",
       "      <td>2</td>\n",
       "      <td>0</td>\n",
       "    </tr>\n",
       "  </tbody>\n",
       "</table>\n",
       "</div>"
      ],
      "text/plain": [
       "   College_ID   IQ  Prev_Sem_Result  CGPA  Academic_Performance  \\\n",
       "0          30  107             6.61  6.28                     8   \n",
       "1          61   97             5.52  5.37                     8   \n",
       "2          36  109             5.36  5.83                     9   \n",
       "3          55  122             5.47  5.75                     6   \n",
       "4           4   96             7.91  7.69                     7   \n",
       "\n",
       "   Internship_Experience  Extra_Curricular_Score  Communication_Skills  \\\n",
       "0                      0                       8                     8   \n",
       "1                      0                       7                     8   \n",
       "2                      0                       3                     1   \n",
       "3                      1                       1                     6   \n",
       "4                      0                       8                    10   \n",
       "\n",
       "   Projects_Completed  Placement  \n",
       "0                   4          0  \n",
       "1                   0          0  \n",
       "2                   1          0  \n",
       "3                   1          0  \n",
       "4                   2          0  "
      ]
     },
     "execution_count": 13,
     "metadata": {},
     "output_type": "execute_result"
    }
   ],
   "source": [
    "data.head()"
   ]
  },
  {
   "cell_type": "code",
   "execution_count": 14,
   "id": "ce616f37",
   "metadata": {
    "execution": {
     "iopub.execute_input": "2025-10-08T04:42:06.352269Z",
     "iopub.status.busy": "2025-10-08T04:42:06.351940Z",
     "iopub.status.idle": "2025-10-08T04:42:06.363857Z",
     "shell.execute_reply": "2025-10-08T04:42:06.362937Z"
    },
    "papermill": {
     "duration": 0.021556,
     "end_time": "2025-10-08T04:42:06.365899",
     "exception": false,
     "start_time": "2025-10-08T04:42:06.344343",
     "status": "completed"
    },
    "tags": []
   },
   "outputs": [],
   "source": [
    "corr_data = data.corr()"
   ]
  },
  {
   "cell_type": "code",
   "execution_count": 15,
   "id": "20312e2b",
   "metadata": {
    "execution": {
     "iopub.execute_input": "2025-10-08T04:42:06.381080Z",
     "iopub.status.busy": "2025-10-08T04:42:06.380770Z",
     "iopub.status.idle": "2025-10-08T04:42:06.396972Z",
     "shell.execute_reply": "2025-10-08T04:42:06.395957Z"
    },
    "papermill": {
     "duration": 0.025308,
     "end_time": "2025-10-08T04:42:06.398463",
     "exception": false,
     "start_time": "2025-10-08T04:42:06.373155",
     "status": "completed"
    },
    "tags": []
   },
   "outputs": [
    {
     "data": {
      "text/html": [
       "<div>\n",
       "<style scoped>\n",
       "    .dataframe tbody tr th:only-of-type {\n",
       "        vertical-align: middle;\n",
       "    }\n",
       "\n",
       "    .dataframe tbody tr th {\n",
       "        vertical-align: top;\n",
       "    }\n",
       "\n",
       "    .dataframe thead th {\n",
       "        text-align: right;\n",
       "    }\n",
       "</style>\n",
       "<table border=\"1\" class=\"dataframe\">\n",
       "  <thead>\n",
       "    <tr style=\"text-align: right;\">\n",
       "      <th></th>\n",
       "      <th>College_ID</th>\n",
       "      <th>IQ</th>\n",
       "      <th>Prev_Sem_Result</th>\n",
       "      <th>CGPA</th>\n",
       "      <th>Academic_Performance</th>\n",
       "      <th>Internship_Experience</th>\n",
       "      <th>Extra_Curricular_Score</th>\n",
       "      <th>Communication_Skills</th>\n",
       "      <th>Projects_Completed</th>\n",
       "      <th>Placement</th>\n",
       "    </tr>\n",
       "  </thead>\n",
       "  <tbody>\n",
       "    <tr>\n",
       "      <th>College_ID</th>\n",
       "      <td>1.000000</td>\n",
       "      <td>0.002473</td>\n",
       "      <td>-0.004060</td>\n",
       "      <td>-0.003422</td>\n",
       "      <td>-0.015442</td>\n",
       "      <td>0.012037</td>\n",
       "      <td>-0.003931</td>\n",
       "      <td>-0.005194</td>\n",
       "      <td>0.004903</td>\n",
       "      <td>0.002750</td>\n",
       "    </tr>\n",
       "    <tr>\n",
       "      <th>IQ</th>\n",
       "      <td>0.002473</td>\n",
       "      <td>1.000000</td>\n",
       "      <td>-0.002640</td>\n",
       "      <td>-0.002859</td>\n",
       "      <td>-0.006827</td>\n",
       "      <td>-0.000247</td>\n",
       "      <td>-0.003458</td>\n",
       "      <td>-0.010896</td>\n",
       "      <td>0.014538</td>\n",
       "      <td>0.285914</td>\n",
       "    </tr>\n",
       "    <tr>\n",
       "      <th>Prev_Sem_Result</th>\n",
       "      <td>-0.004060</td>\n",
       "      <td>-0.002640</td>\n",
       "      <td>1.000000</td>\n",
       "      <td>0.980768</td>\n",
       "      <td>-0.005765</td>\n",
       "      <td>-0.013347</td>\n",
       "      <td>0.009326</td>\n",
       "      <td>-0.017269</td>\n",
       "      <td>0.018434</td>\n",
       "      <td>0.317896</td>\n",
       "    </tr>\n",
       "    <tr>\n",
       "      <th>CGPA</th>\n",
       "      <td>-0.003422</td>\n",
       "      <td>-0.002859</td>\n",
       "      <td>0.980768</td>\n",
       "      <td>1.000000</td>\n",
       "      <td>-0.002958</td>\n",
       "      <td>-0.012562</td>\n",
       "      <td>0.011441</td>\n",
       "      <td>-0.018242</td>\n",
       "      <td>0.020872</td>\n",
       "      <td>0.321607</td>\n",
       "    </tr>\n",
       "    <tr>\n",
       "      <th>Academic_Performance</th>\n",
       "      <td>-0.015442</td>\n",
       "      <td>-0.006827</td>\n",
       "      <td>-0.005765</td>\n",
       "      <td>-0.002958</td>\n",
       "      <td>1.000000</td>\n",
       "      <td>0.025903</td>\n",
       "      <td>0.011774</td>\n",
       "      <td>-0.019733</td>\n",
       "      <td>-0.013148</td>\n",
       "      <td>-0.014920</td>\n",
       "    </tr>\n",
       "    <tr>\n",
       "      <th>Internship_Experience</th>\n",
       "      <td>0.012037</td>\n",
       "      <td>-0.000247</td>\n",
       "      <td>-0.013347</td>\n",
       "      <td>-0.012562</td>\n",
       "      <td>0.025903</td>\n",
       "      <td>1.000000</td>\n",
       "      <td>0.002093</td>\n",
       "      <td>-0.020437</td>\n",
       "      <td>-0.010260</td>\n",
       "      <td>-0.005841</td>\n",
       "    </tr>\n",
       "    <tr>\n",
       "      <th>Extra_Curricular_Score</th>\n",
       "      <td>-0.003931</td>\n",
       "      <td>-0.003458</td>\n",
       "      <td>0.009326</td>\n",
       "      <td>0.011441</td>\n",
       "      <td>0.011774</td>\n",
       "      <td>0.002093</td>\n",
       "      <td>1.000000</td>\n",
       "      <td>0.003769</td>\n",
       "      <td>0.008122</td>\n",
       "      <td>-0.004740</td>\n",
       "    </tr>\n",
       "    <tr>\n",
       "      <th>Communication_Skills</th>\n",
       "      <td>-0.005194</td>\n",
       "      <td>-0.010896</td>\n",
       "      <td>-0.017269</td>\n",
       "      <td>-0.018242</td>\n",
       "      <td>-0.019733</td>\n",
       "      <td>-0.020437</td>\n",
       "      <td>0.003769</td>\n",
       "      <td>1.000000</td>\n",
       "      <td>-0.004486</td>\n",
       "      <td>0.323155</td>\n",
       "    </tr>\n",
       "    <tr>\n",
       "      <th>Projects_Completed</th>\n",
       "      <td>0.004903</td>\n",
       "      <td>0.014538</td>\n",
       "      <td>0.018434</td>\n",
       "      <td>0.020872</td>\n",
       "      <td>-0.013148</td>\n",
       "      <td>-0.010260</td>\n",
       "      <td>0.008122</td>\n",
       "      <td>-0.004486</td>\n",
       "      <td>1.000000</td>\n",
       "      <td>0.217499</td>\n",
       "    </tr>\n",
       "    <tr>\n",
       "      <th>Placement</th>\n",
       "      <td>0.002750</td>\n",
       "      <td>0.285914</td>\n",
       "      <td>0.317896</td>\n",
       "      <td>0.321607</td>\n",
       "      <td>-0.014920</td>\n",
       "      <td>-0.005841</td>\n",
       "      <td>-0.004740</td>\n",
       "      <td>0.323155</td>\n",
       "      <td>0.217499</td>\n",
       "      <td>1.000000</td>\n",
       "    </tr>\n",
       "  </tbody>\n",
       "</table>\n",
       "</div>"
      ],
      "text/plain": [
       "                        College_ID        IQ  Prev_Sem_Result      CGPA  \\\n",
       "College_ID                1.000000  0.002473        -0.004060 -0.003422   \n",
       "IQ                        0.002473  1.000000        -0.002640 -0.002859   \n",
       "Prev_Sem_Result          -0.004060 -0.002640         1.000000  0.980768   \n",
       "CGPA                     -0.003422 -0.002859         0.980768  1.000000   \n",
       "Academic_Performance     -0.015442 -0.006827        -0.005765 -0.002958   \n",
       "Internship_Experience     0.012037 -0.000247        -0.013347 -0.012562   \n",
       "Extra_Curricular_Score   -0.003931 -0.003458         0.009326  0.011441   \n",
       "Communication_Skills     -0.005194 -0.010896        -0.017269 -0.018242   \n",
       "Projects_Completed        0.004903  0.014538         0.018434  0.020872   \n",
       "Placement                 0.002750  0.285914         0.317896  0.321607   \n",
       "\n",
       "                        Academic_Performance  Internship_Experience  \\\n",
       "College_ID                         -0.015442               0.012037   \n",
       "IQ                                 -0.006827              -0.000247   \n",
       "Prev_Sem_Result                    -0.005765              -0.013347   \n",
       "CGPA                               -0.002958              -0.012562   \n",
       "Academic_Performance                1.000000               0.025903   \n",
       "Internship_Experience               0.025903               1.000000   \n",
       "Extra_Curricular_Score              0.011774               0.002093   \n",
       "Communication_Skills               -0.019733              -0.020437   \n",
       "Projects_Completed                 -0.013148              -0.010260   \n",
       "Placement                          -0.014920              -0.005841   \n",
       "\n",
       "                        Extra_Curricular_Score  Communication_Skills  \\\n",
       "College_ID                           -0.003931             -0.005194   \n",
       "IQ                                   -0.003458             -0.010896   \n",
       "Prev_Sem_Result                       0.009326             -0.017269   \n",
       "CGPA                                  0.011441             -0.018242   \n",
       "Academic_Performance                  0.011774             -0.019733   \n",
       "Internship_Experience                 0.002093             -0.020437   \n",
       "Extra_Curricular_Score                1.000000              0.003769   \n",
       "Communication_Skills                  0.003769              1.000000   \n",
       "Projects_Completed                    0.008122             -0.004486   \n",
       "Placement                            -0.004740              0.323155   \n",
       "\n",
       "                        Projects_Completed  Placement  \n",
       "College_ID                        0.004903   0.002750  \n",
       "IQ                                0.014538   0.285914  \n",
       "Prev_Sem_Result                   0.018434   0.317896  \n",
       "CGPA                              0.020872   0.321607  \n",
       "Academic_Performance             -0.013148  -0.014920  \n",
       "Internship_Experience            -0.010260  -0.005841  \n",
       "Extra_Curricular_Score            0.008122  -0.004740  \n",
       "Communication_Skills             -0.004486   0.323155  \n",
       "Projects_Completed                1.000000   0.217499  \n",
       "Placement                         0.217499   1.000000  "
      ]
     },
     "execution_count": 15,
     "metadata": {},
     "output_type": "execute_result"
    }
   ],
   "source": [
    "corr_data"
   ]
  },
  {
   "cell_type": "code",
   "execution_count": 16,
   "id": "7232f15d",
   "metadata": {
    "execution": {
     "iopub.execute_input": "2025-10-08T04:42:06.413881Z",
     "iopub.status.busy": "2025-10-08T04:42:06.413554Z",
     "iopub.status.idle": "2025-10-08T04:42:06.422752Z",
     "shell.execute_reply": "2025-10-08T04:42:06.421683Z"
    },
    "papermill": {
     "duration": 0.018592,
     "end_time": "2025-10-08T04:42:06.424398",
     "exception": false,
     "start_time": "2025-10-08T04:42:06.405806",
     "status": "completed"
    },
    "tags": []
   },
   "outputs": [],
   "source": [
    "feature_selected_data = data[[data.columns[1],data.columns[2],data.columns[3],data.columns[7],data.columns[8],data.columns[9]]]"
   ]
  },
  {
   "cell_type": "code",
   "execution_count": 17,
   "id": "e7bc7bdb",
   "metadata": {
    "execution": {
     "iopub.execute_input": "2025-10-08T04:42:06.439880Z",
     "iopub.status.busy": "2025-10-08T04:42:06.439381Z",
     "iopub.status.idle": "2025-10-08T04:42:06.453098Z",
     "shell.execute_reply": "2025-10-08T04:42:06.451807Z"
    },
    "papermill": {
     "duration": 0.02343,
     "end_time": "2025-10-08T04:42:06.455005",
     "exception": false,
     "start_time": "2025-10-08T04:42:06.431575",
     "status": "completed"
    },
    "tags": []
   },
   "outputs": [
    {
     "data": {
      "text/html": [
       "<div>\n",
       "<style scoped>\n",
       "    .dataframe tbody tr th:only-of-type {\n",
       "        vertical-align: middle;\n",
       "    }\n",
       "\n",
       "    .dataframe tbody tr th {\n",
       "        vertical-align: top;\n",
       "    }\n",
       "\n",
       "    .dataframe thead th {\n",
       "        text-align: right;\n",
       "    }\n",
       "</style>\n",
       "<table border=\"1\" class=\"dataframe\">\n",
       "  <thead>\n",
       "    <tr style=\"text-align: right;\">\n",
       "      <th></th>\n",
       "      <th>IQ</th>\n",
       "      <th>Prev_Sem_Result</th>\n",
       "      <th>CGPA</th>\n",
       "      <th>Communication_Skills</th>\n",
       "      <th>Projects_Completed</th>\n",
       "      <th>Placement</th>\n",
       "    </tr>\n",
       "  </thead>\n",
       "  <tbody>\n",
       "    <tr>\n",
       "      <th>0</th>\n",
       "      <td>107</td>\n",
       "      <td>6.61</td>\n",
       "      <td>6.28</td>\n",
       "      <td>8</td>\n",
       "      <td>4</td>\n",
       "      <td>0</td>\n",
       "    </tr>\n",
       "    <tr>\n",
       "      <th>1</th>\n",
       "      <td>97</td>\n",
       "      <td>5.52</td>\n",
       "      <td>5.37</td>\n",
       "      <td>8</td>\n",
       "      <td>0</td>\n",
       "      <td>0</td>\n",
       "    </tr>\n",
       "    <tr>\n",
       "      <th>2</th>\n",
       "      <td>109</td>\n",
       "      <td>5.36</td>\n",
       "      <td>5.83</td>\n",
       "      <td>1</td>\n",
       "      <td>1</td>\n",
       "      <td>0</td>\n",
       "    </tr>\n",
       "    <tr>\n",
       "      <th>3</th>\n",
       "      <td>122</td>\n",
       "      <td>5.47</td>\n",
       "      <td>5.75</td>\n",
       "      <td>6</td>\n",
       "      <td>1</td>\n",
       "      <td>0</td>\n",
       "    </tr>\n",
       "    <tr>\n",
       "      <th>4</th>\n",
       "      <td>96</td>\n",
       "      <td>7.91</td>\n",
       "      <td>7.69</td>\n",
       "      <td>10</td>\n",
       "      <td>2</td>\n",
       "      <td>0</td>\n",
       "    </tr>\n",
       "    <tr>\n",
       "      <th>...</th>\n",
       "      <td>...</td>\n",
       "      <td>...</td>\n",
       "      <td>...</td>\n",
       "      <td>...</td>\n",
       "      <td>...</td>\n",
       "      <td>...</td>\n",
       "    </tr>\n",
       "    <tr>\n",
       "      <th>9995</th>\n",
       "      <td>119</td>\n",
       "      <td>8.41</td>\n",
       "      <td>8.29</td>\n",
       "      <td>8</td>\n",
       "      <td>0</td>\n",
       "      <td>1</td>\n",
       "    </tr>\n",
       "    <tr>\n",
       "      <th>9996</th>\n",
       "      <td>70</td>\n",
       "      <td>9.25</td>\n",
       "      <td>9.34</td>\n",
       "      <td>7</td>\n",
       "      <td>2</td>\n",
       "      <td>0</td>\n",
       "    </tr>\n",
       "    <tr>\n",
       "      <th>9997</th>\n",
       "      <td>89</td>\n",
       "      <td>6.08</td>\n",
       "      <td>6.25</td>\n",
       "      <td>9</td>\n",
       "      <td>5</td>\n",
       "      <td>0</td>\n",
       "    </tr>\n",
       "    <tr>\n",
       "      <th>9998</th>\n",
       "      <td>107</td>\n",
       "      <td>8.77</td>\n",
       "      <td>8.92</td>\n",
       "      <td>5</td>\n",
       "      <td>1</td>\n",
       "      <td>0</td>\n",
       "    </tr>\n",
       "    <tr>\n",
       "      <th>9999</th>\n",
       "      <td>109</td>\n",
       "      <td>9.41</td>\n",
       "      <td>9.77</td>\n",
       "      <td>5</td>\n",
       "      <td>5</td>\n",
       "      <td>0</td>\n",
       "    </tr>\n",
       "  </tbody>\n",
       "</table>\n",
       "<p>10000 rows × 6 columns</p>\n",
       "</div>"
      ],
      "text/plain": [
       "       IQ  Prev_Sem_Result  CGPA  Communication_Skills  Projects_Completed  \\\n",
       "0     107             6.61  6.28                     8                   4   \n",
       "1      97             5.52  5.37                     8                   0   \n",
       "2     109             5.36  5.83                     1                   1   \n",
       "3     122             5.47  5.75                     6                   1   \n",
       "4      96             7.91  7.69                    10                   2   \n",
       "...   ...              ...   ...                   ...                 ...   \n",
       "9995  119             8.41  8.29                     8                   0   \n",
       "9996   70             9.25  9.34                     7                   2   \n",
       "9997   89             6.08  6.25                     9                   5   \n",
       "9998  107             8.77  8.92                     5                   1   \n",
       "9999  109             9.41  9.77                     5                   5   \n",
       "\n",
       "      Placement  \n",
       "0             0  \n",
       "1             0  \n",
       "2             0  \n",
       "3             0  \n",
       "4             0  \n",
       "...         ...  \n",
       "9995          1  \n",
       "9996          0  \n",
       "9997          0  \n",
       "9998          0  \n",
       "9999          0  \n",
       "\n",
       "[10000 rows x 6 columns]"
      ]
     },
     "execution_count": 17,
     "metadata": {},
     "output_type": "execute_result"
    }
   ],
   "source": [
    "feature_selected_data"
   ]
  },
  {
   "cell_type": "code",
   "execution_count": 18,
   "id": "8f806962",
   "metadata": {
    "execution": {
     "iopub.execute_input": "2025-10-08T04:42:06.470793Z",
     "iopub.status.busy": "2025-10-08T04:42:06.470410Z",
     "iopub.status.idle": "2025-10-08T04:42:06.477750Z",
     "shell.execute_reply": "2025-10-08T04:42:06.476350Z"
    },
    "papermill": {
     "duration": 0.017259,
     "end_time": "2025-10-08T04:42:06.479595",
     "exception": false,
     "start_time": "2025-10-08T04:42:06.462336",
     "status": "completed"
    },
    "tags": []
   },
   "outputs": [],
   "source": [
    "placement_equals_1 = data[data[data.columns[-1]] == 1].shape[0]/data.shape[0]"
   ]
  },
  {
   "cell_type": "code",
   "execution_count": 19,
   "id": "b6fb21ca",
   "metadata": {
    "execution": {
     "iopub.execute_input": "2025-10-08T04:42:06.496029Z",
     "iopub.status.busy": "2025-10-08T04:42:06.495703Z",
     "iopub.status.idle": "2025-10-08T04:42:06.502344Z",
     "shell.execute_reply": "2025-10-08T04:42:06.501343Z"
    },
    "papermill": {
     "duration": 0.017104,
     "end_time": "2025-10-08T04:42:06.504081",
     "exception": false,
     "start_time": "2025-10-08T04:42:06.486977",
     "status": "completed"
    },
    "tags": []
   },
   "outputs": [
    {
     "data": {
      "text/plain": [
       "0.1659"
      ]
     },
     "execution_count": 19,
     "metadata": {},
     "output_type": "execute_result"
    }
   ],
   "source": [
    "placement_equals_1"
   ]
  },
  {
   "cell_type": "code",
   "execution_count": 20,
   "id": "0019083f",
   "metadata": {
    "execution": {
     "iopub.execute_input": "2025-10-08T04:42:06.519996Z",
     "iopub.status.busy": "2025-10-08T04:42:06.519420Z",
     "iopub.status.idle": "2025-10-08T04:42:06.957988Z",
     "shell.execute_reply": "2025-10-08T04:42:06.956665Z"
    },
    "papermill": {
     "duration": 0.448529,
     "end_time": "2025-10-08T04:42:06.959853",
     "exception": false,
     "start_time": "2025-10-08T04:42:06.511324",
     "status": "completed"
    },
    "tags": []
   },
   "outputs": [
    {
     "data": {
      "text/plain": [
       "<Axes: >"
      ]
     },
     "execution_count": 20,
     "metadata": {},
     "output_type": "execute_result"
    },
    {
     "data": {
      "image/png": "[encoded data removed]",
      "text/plain": [
       "<Figure size 640x480 with 2 Axes>"
      ]
     },
     "metadata": {},
     "output_type": "display_data"
    }
   ],
   "source": [
    "sns.heatmap(corr_data)"
   ]
  },
  {
   "cell_type": "code",
   "execution_count": 21,
   "id": "5e2e5d7f",
   "metadata": {
    "execution": {
     "iopub.execute_input": "2025-10-08T04:42:06.978057Z",
     "iopub.status.busy": "2025-10-08T04:42:06.977737Z",
     "iopub.status.idle": "2025-10-08T04:42:07.469000Z",
     "shell.execute_reply": "2025-10-08T04:42:07.467978Z"
    },
    "papermill": {
     "duration": 0.502635,
     "end_time": "2025-10-08T04:42:07.471022",
     "exception": false,
     "start_time": "2025-10-08T04:42:06.968387",
     "status": "completed"
    },
    "tags": []
   },
   "outputs": [
    {
     "data": {
      "text/plain": [
       "<Axes: >"
      ]
     },
     "execution_count": 21,
     "metadata": {},
     "output_type": "execute_result"
    },
    {
     "data": {
      "image/png": "[encoded data removed]",
      "text/plain": [
       "<Figure size 640x480 with 2 Axes>"
      ]
     },
     "metadata": {},
     "output_type": "display_data"
    }
   ],
   "source": [
    "sns.heatmap(feature_selected_data.corr(),annot=True)"
   ]
  },
  {
   "cell_type": "code",
   "execution_count": 22,
   "id": "5b1696ec",
   "metadata": {
    "execution": {
     "iopub.execute_input": "2025-10-08T04:42:07.492054Z",
     "iopub.status.busy": "2025-10-08T04:42:07.491709Z",
     "iopub.status.idle": "2025-10-08T04:42:07.529076Z",
     "shell.execute_reply": "2025-10-08T04:42:07.528021Z"
    },
    "papermill": {
     "duration": 0.049484,
     "end_time": "2025-10-08T04:42:07.530902",
     "exception": false,
     "start_time": "2025-10-08T04:42:07.481418",
     "status": "completed"
    },
    "tags": []
   },
   "outputs": [],
   "source": [
    "x = np.array(feature_selected_data.iloc[:,0:-1])\n",
    "cov_mat = np.cov(x,rowvar=False)\n",
    "F = np.linalg.svd(cov_mat)\n",
    "E = F[0]\n",
    "lamda = F[1]"
   ]
  },
  {
   "cell_type": "code",
   "execution_count": 23,
   "id": "29b7117b",
   "metadata": {
    "execution": {
     "iopub.execute_input": "2025-10-08T04:42:07.553441Z",
     "iopub.status.busy": "2025-10-08T04:42:07.553111Z",
     "iopub.status.idle": "2025-10-08T04:42:07.558702Z",
     "shell.execute_reply": "2025-10-08T04:42:07.557386Z"
    },
    "papermill": {
     "duration": 0.020302,
     "end_time": "2025-10-08T04:42:07.561074",
     "exception": false,
     "start_time": "2025-10-08T04:42:07.540772",
     "status": "completed"
    },
    "tags": []
   },
   "outputs": [
    {
     "name": "stdout",
     "output_type": "stream",
     "text": [
      "[2.26597565e+02 8.41678439e+00 4.21673530e+00 2.94002762e+00\n",
      " 4.09142123e-02]\n"
     ]
    }
   ],
   "source": [
    "print(F[1])"
   ]
  },
  {
   "cell_type": "code",
   "execution_count": 24,
   "id": "61f010c4",
   "metadata": {
    "execution": {
     "iopub.execute_input": "2025-10-08T04:42:07.582666Z",
     "iopub.status.busy": "2025-10-08T04:42:07.582312Z",
     "iopub.status.idle": "2025-10-08T04:42:07.587888Z",
     "shell.execute_reply": "2025-10-08T04:42:07.586797Z"
    },
    "papermill": {
     "duration": 0.01805,
     "end_time": "2025-10-08T04:42:07.589520",
     "exception": false,
     "start_time": "2025-10-08T04:42:07.571470",
     "status": "completed"
    },
    "tags": []
   },
   "outputs": [
    {
     "name": "stdout",
     "output_type": "stream",
     "text": [
      "[[-9.99996139e-01 -2.17743344e-03 -3.46642553e-04 -1.69114141e-03\n",
      "   1.81562132e-05]\n",
      " [ 2.57815004e-04  1.75779405e-02 -7.00202535e-01 -3.92089239e-02\n",
      "  -7.12649998e-01]\n",
      " [ 2.83169595e-04  1.83550525e-02 -7.11415827e-01 -3.77209711e-02\n",
      "   7.01518112e-01]\n",
      " [ 2.18074163e-03 -9.99665581e-01 -2.56049574e-02  2.87028185e-03\n",
      "   3.43247779e-04]\n",
      " [-1.67910057e-03  4.25354616e-03 -5.42973035e-02  9.98513240e-01\n",
      "  -1.48345515e-03]]\n"
     ]
    }
   ],
   "source": [
    "print(E)"
   ]
  },
  {
   "cell_type": "code",
   "execution_count": 25,
   "id": "a12e9d82",
   "metadata": {
    "execution": {
     "iopub.execute_input": "2025-10-08T04:42:07.610041Z",
     "iopub.status.busy": "2025-10-08T04:42:07.609673Z",
     "iopub.status.idle": "2025-10-08T04:42:07.617767Z",
     "shell.execute_reply": "2025-10-08T04:42:07.616551Z"
    },
    "papermill": {
     "duration": 0.020348,
     "end_time": "2025-10-08T04:42:07.619375",
     "exception": false,
     "start_time": "2025-10-08T04:42:07.599027",
     "status": "completed"
    },
    "tags": []
   },
   "outputs": [
    {
     "name": "stdout",
     "output_type": "stream",
     "text": [
      "The dot product between e1 and e2 is  4.2595875507287843e-19\n",
      "The magnitude of e1 is  1.0000000000000002\n",
      "The magnitude of e2 is  0.9999999999999997\n",
      "The magnitude of e3 is  0.9999999999999998\n",
      "The magnitude of e4 is  1.0\n",
      "The magnitude of e5 is  0.9999999999999999\n"
     ]
    }
   ],
   "source": [
    "e1 = E[:,0]\n",
    "e2 = E[:,1]\n",
    "e3 = E[:,2]\n",
    "e4 = E[:,3]\n",
    "e5 = E[:,4]\n",
    "print(\"The dot product between e1 and e2 is \",np.dot(e1,e2))\n",
    "print(\"The magnitude of e1 is \",np.linalg.norm(e1))\n",
    "print(\"The magnitude of e2 is \",np.linalg.norm(e2))\n",
    "print(\"The magnitude of e3 is \",np.linalg.norm(e3))\n",
    "print(\"The magnitude of e4 is \",np.linalg.norm(e4))\n",
    "print(\"The magnitude of e5 is \",np.linalg.norm(e5))"
   ]
  },
  {
   "cell_type": "code",
   "execution_count": 26,
   "id": "57798984",
   "metadata": {
    "execution": {
     "iopub.execute_input": "2025-10-08T04:42:07.640404Z",
     "iopub.status.busy": "2025-10-08T04:42:07.640073Z",
     "iopub.status.idle": "2025-10-08T04:42:07.648092Z",
     "shell.execute_reply": "2025-10-08T04:42:07.646671Z"
    },
    "papermill": {
     "duration": 0.020739,
     "end_time": "2025-10-08T04:42:07.650185",
     "exception": false,
     "start_time": "2025-10-08T04:42:07.629446",
     "status": "completed"
    },
    "tags": []
   },
   "outputs": [
    {
     "name": "stdout",
     "output_type": "stream",
     "text": [
      "[[ 2.26597565e+02 -6.45436300e-14  3.26882347e-16 -1.79572107e-15\n",
      "   3.26882347e-17]\n",
      " [-6.45436300e-14  8.41678439e+00 -1.94175220e-15 -4.49907360e-16\n",
      "  -5.77262677e-16]\n",
      " [ 3.26882347e-16 -1.94175220e-15  4.21673530e+00 -1.32253000e-15\n",
      "   8.46857338e-16]\n",
      " [-1.79572107e-15 -4.49907360e-16 -1.32253000e-15  2.94002762e+00\n",
      "  -7.57392171e-16]\n",
      " [ 3.26882347e-17 -5.77262677e-16  8.46857338e-16 -7.57392171e-16\n",
      "   4.09142123e-02]]\n"
     ]
    }
   ],
   "source": [
    "new_X = np.matmul(x,E)\n",
    "new_X_cov_mat = np.cov(new_X,rowvar=False)\n",
    "print(new_X_cov_mat)"
   ]
  },
  {
   "cell_type": "code",
   "execution_count": 27,
   "id": "3f9d4928",
   "metadata": {
    "execution": {
     "iopub.execute_input": "2025-10-08T04:42:07.674628Z",
     "iopub.status.busy": "2025-10-08T04:42:07.674274Z",
     "iopub.status.idle": "2025-10-08T04:42:07.679648Z",
     "shell.execute_reply": "2025-10-08T04:42:07.678736Z"
    },
    "papermill": {
     "duration": 0.017571,
     "end_time": "2025-10-08T04:42:07.681294",
     "exception": false,
     "start_time": "2025-10-08T04:42:07.663723",
     "status": "completed"
    },
    "tags": []
   },
   "outputs": [],
   "source": [
    "new_feature_data = pd.DataFrame(data = new_X ,\n",
    "                            columns = [\"Input_feature_1\",\"Input_feature_2\",\"Input_feature_3\",\"Input_feature_4\",\"Input_feature_5\"])"
   ]
  },
  {
   "cell_type": "code",
   "execution_count": 28,
   "id": "fa80ae4a",
   "metadata": {
    "execution": {
     "iopub.execute_input": "2025-10-08T04:42:07.702015Z",
     "iopub.status.busy": "2025-10-08T04:42:07.701688Z",
     "iopub.status.idle": "2025-10-08T04:42:07.715886Z",
     "shell.execute_reply": "2025-10-08T04:42:07.714859Z"
    },
    "papermill": {
     "duration": 0.026331,
     "end_time": "2025-10-08T04:42:07.717348",
     "exception": false,
     "start_time": "2025-10-08T04:42:07.691017",
     "status": "completed"
    },
    "tags": []
   },
   "outputs": [
    {
     "data": {
      "text/html": [
       "<div>\n",
       "<style scoped>\n",
       "    .dataframe tbody tr th:only-of-type {\n",
       "        vertical-align: middle;\n",
       "    }\n",
       "\n",
       "    .dataframe tbody tr th {\n",
       "        vertical-align: top;\n",
       "    }\n",
       "\n",
       "    .dataframe thead th {\n",
       "        text-align: right;\n",
       "    }\n",
       "</style>\n",
       "<table border=\"1\" class=\"dataframe\">\n",
       "  <thead>\n",
       "    <tr style=\"text-align: right;\">\n",
       "      <th></th>\n",
       "      <th>Input_feature_1</th>\n",
       "      <th>Input_feature_2</th>\n",
       "      <th>Input_feature_3</th>\n",
       "      <th>Input_feature_4</th>\n",
       "      <th>Input_feature_5</th>\n",
       "    </tr>\n",
       "  </thead>\n",
       "  <tbody>\n",
       "    <tr>\n",
       "      <th>0</th>\n",
       "      <td>-106.985375</td>\n",
       "      <td>-7.981836</td>\n",
       "      <td>-9.555150</td>\n",
       "      <td>3.340004</td>\n",
       "      <td>-0.306328</td>\n",
       "    </tr>\n",
       "    <tr>\n",
       "      <th>1</th>\n",
       "      <td>-96.979236</td>\n",
       "      <td>-8.012939</td>\n",
       "      <td>-7.923885</td>\n",
       "      <td>-0.560073</td>\n",
       "      <td>-0.162169</td>\n",
       "    </tr>\n",
       "    <tr>\n",
       "      <th>2</th>\n",
       "      <td>-108.996045</td>\n",
       "      <td>-1.031525</td>\n",
       "      <td>-8.018326</td>\n",
       "      <td>0.386976</td>\n",
       "      <td>0.270885</td>\n",
       "    </tr>\n",
       "    <tr>\n",
       "      <th>3</th>\n",
       "      <td>-121.985085</td>\n",
       "      <td>-6.057694</td>\n",
       "      <td>-8.170966</td>\n",
       "      <td>0.378047</td>\n",
       "      <td>0.138325</td>\n",
       "    </tr>\n",
       "    <tr>\n",
       "      <th>4</th>\n",
       "      <td>-95.976963</td>\n",
       "      <td>-9.916990</td>\n",
       "      <td>-11.407312</td>\n",
       "      <td>1.263163</td>\n",
       "      <td>-0.240179</td>\n",
       "    </tr>\n",
       "    <tr>\n",
       "      <th>...</th>\n",
       "      <td>...</td>\n",
       "      <td>...</td>\n",
       "      <td>...</td>\n",
       "      <td>...</td>\n",
       "      <td>...</td>\n",
       "    </tr>\n",
       "    <tr>\n",
       "      <th>9995</th>\n",
       "      <td>-118.977579</td>\n",
       "      <td>-7.956445</td>\n",
       "      <td>-12.032431</td>\n",
       "      <td>-0.820737</td>\n",
       "      <td>-0.172895</td>\n",
       "    </tr>\n",
       "    <tr>\n",
       "      <th>9996</th>\n",
       "      <td>-69.982793</td>\n",
       "      <td>-6.807540</td>\n",
       "      <td>-13.433592</td>\n",
       "      <td>1.183742</td>\n",
       "      <td>-0.039127</td>\n",
       "    </tr>\n",
       "    <tr>\n",
       "      <th>9997</th>\n",
       "      <td>-88.985088</td>\n",
       "      <td>-8.947921</td>\n",
       "      <td>-9.236363</td>\n",
       "      <td>4.393741</td>\n",
       "      <td>0.048864</td>\n",
       "    </tr>\n",
       "    <tr>\n",
       "      <th>9998</th>\n",
       "      <td>-106.985575</td>\n",
       "      <td>-4.909174</td>\n",
       "      <td>-12.706018</td>\n",
       "      <td>0.151579</td>\n",
       "      <td>0.009777</td>\n",
       "    </tr>\n",
       "    <tr>\n",
       "      <th>9999</th>\n",
       "      <td>-108.991878</td>\n",
       "      <td>-4.869663</td>\n",
       "      <td>-13.976734</td>\n",
       "      <td>4.085093</td>\n",
       "      <td>0.144073</td>\n",
       "    </tr>\n",
       "  </tbody>\n",
       "</table>\n",
       "<p>10000 rows × 5 columns</p>\n",
       "</div>"
      ],
      "text/plain": [
       "      Input_feature_1  Input_feature_2  Input_feature_3  Input_feature_4  \\\n",
       "0         -106.985375        -7.981836        -9.555150         3.340004   \n",
       "1          -96.979236        -8.012939        -7.923885        -0.560073   \n",
       "2         -108.996045        -1.031525        -8.018326         0.386976   \n",
       "3         -121.985085        -6.057694        -8.170966         0.378047   \n",
       "4          -95.976963        -9.916990       -11.407312         1.263163   \n",
       "...               ...              ...              ...              ...   \n",
       "9995      -118.977579        -7.956445       -12.032431        -0.820737   \n",
       "9996       -69.982793        -6.807540       -13.433592         1.183742   \n",
       "9997       -88.985088        -8.947921        -9.236363         4.393741   \n",
       "9998      -106.985575        -4.909174       -12.706018         0.151579   \n",
       "9999      -108.991878        -4.869663       -13.976734         4.085093   \n",
       "\n",
       "      Input_feature_5  \n",
       "0           -0.306328  \n",
       "1           -0.162169  \n",
       "2            0.270885  \n",
       "3            0.138325  \n",
       "4           -0.240179  \n",
       "...               ...  \n",
       "9995        -0.172895  \n",
       "9996        -0.039127  \n",
       "9997         0.048864  \n",
       "9998         0.009777  \n",
       "9999         0.144073  \n",
       "\n",
       "[10000 rows x 5 columns]"
      ]
     },
     "execution_count": 28,
     "metadata": {},
     "output_type": "execute_result"
    }
   ],
   "source": [
    "new_feature_data"
   ]
  },
  {
   "cell_type": "code",
   "execution_count": 29,
   "id": "e1527811",
   "metadata": {
    "execution": {
     "iopub.execute_input": "2025-10-08T04:42:07.738232Z",
     "iopub.status.busy": "2025-10-08T04:42:07.737907Z",
     "iopub.status.idle": "2025-10-08T04:42:08.049051Z",
     "shell.execute_reply": "2025-10-08T04:42:08.047909Z"
    },
    "papermill": {
     "duration": 0.323667,
     "end_time": "2025-10-08T04:42:08.050848",
     "exception": false,
     "start_time": "2025-10-08T04:42:07.727181",
     "status": "completed"
    },
    "tags": []
   },
   "outputs": [
    {
     "data": {
      "text/plain": [
       "<Axes: >"
      ]
     },
     "execution_count": 29,
     "metadata": {},
     "output_type": "execute_result"
    },
    {
     "data": {
      "image/png": "[encoded data removed]",
      "text/plain": [
       "<Figure size 640x480 with 2 Axes>"
      ]
     },
     "metadata": {},
     "output_type": "display_data"
    }
   ],
   "source": [
    "sns.heatmap(new_feature_data.corr(),annot=True)"
   ]
  },
  {
   "cell_type": "code",
   "execution_count": 30,
   "id": "da5f3af3",
   "metadata": {
    "execution": {
     "iopub.execute_input": "2025-10-08T04:42:08.074221Z",
     "iopub.status.busy": "2025-10-08T04:42:08.073874Z",
     "iopub.status.idle": "2025-10-08T04:42:08.080583Z",
     "shell.execute_reply": "2025-10-08T04:42:08.079661Z"
    },
    "papermill": {
     "duration": 0.019914,
     "end_time": "2025-10-08T04:42:08.082344",
     "exception": false,
     "start_time": "2025-10-08T04:42:08.062430",
     "status": "completed"
    },
    "tags": []
   },
   "outputs": [],
   "source": [
    "new_data = pd.concat([new_feature_data,feature_selected_data[data.columns[-1]]],axis=1)"
   ]
  },
  {
   "cell_type": "code",
   "execution_count": 31,
   "id": "3deaaf04",
   "metadata": {
    "execution": {
     "iopub.execute_input": "2025-10-08T04:42:08.106537Z",
     "iopub.status.busy": "2025-10-08T04:42:08.105522Z",
     "iopub.status.idle": "2025-10-08T04:42:08.119820Z",
     "shell.execute_reply": "2025-10-08T04:42:08.118832Z"
    },
    "papermill": {
     "duration": 0.028281,
     "end_time": "2025-10-08T04:42:08.121433",
     "exception": false,
     "start_time": "2025-10-08T04:42:08.093152",
     "status": "completed"
    },
    "tags": []
   },
   "outputs": [
    {
     "data": {
      "text/html": [
       "<div>\n",
       "<style scoped>\n",
       "    .dataframe tbody tr th:only-of-type {\n",
       "        vertical-align: middle;\n",
       "    }\n",
       "\n",
       "    .dataframe tbody tr th {\n",
       "        vertical-align: top;\n",
       "    }\n",
       "\n",
       "    .dataframe thead th {\n",
       "        text-align: right;\n",
       "    }\n",
       "</style>\n",
       "<table border=\"1\" class=\"dataframe\">\n",
       "  <thead>\n",
       "    <tr style=\"text-align: right;\">\n",
       "      <th></th>\n",
       "      <th>Input_feature_1</th>\n",
       "      <th>Input_feature_2</th>\n",
       "      <th>Input_feature_3</th>\n",
       "      <th>Input_feature_4</th>\n",
       "      <th>Input_feature_5</th>\n",
       "      <th>Placement</th>\n",
       "    </tr>\n",
       "  </thead>\n",
       "  <tbody>\n",
       "    <tr>\n",
       "      <th>0</th>\n",
       "      <td>-106.985375</td>\n",
       "      <td>-7.981836</td>\n",
       "      <td>-9.555150</td>\n",
       "      <td>3.340004</td>\n",
       "      <td>-0.306328</td>\n",
       "      <td>0</td>\n",
       "    </tr>\n",
       "    <tr>\n",
       "      <th>1</th>\n",
       "      <td>-96.979236</td>\n",
       "      <td>-8.012939</td>\n",
       "      <td>-7.923885</td>\n",
       "      <td>-0.560073</td>\n",
       "      <td>-0.162169</td>\n",
       "      <td>0</td>\n",
       "    </tr>\n",
       "    <tr>\n",
       "      <th>2</th>\n",
       "      <td>-108.996045</td>\n",
       "      <td>-1.031525</td>\n",
       "      <td>-8.018326</td>\n",
       "      <td>0.386976</td>\n",
       "      <td>0.270885</td>\n",
       "      <td>0</td>\n",
       "    </tr>\n",
       "    <tr>\n",
       "      <th>3</th>\n",
       "      <td>-121.985085</td>\n",
       "      <td>-6.057694</td>\n",
       "      <td>-8.170966</td>\n",
       "      <td>0.378047</td>\n",
       "      <td>0.138325</td>\n",
       "      <td>0</td>\n",
       "    </tr>\n",
       "    <tr>\n",
       "      <th>4</th>\n",
       "      <td>-95.976963</td>\n",
       "      <td>-9.916990</td>\n",
       "      <td>-11.407312</td>\n",
       "      <td>1.263163</td>\n",
       "      <td>-0.240179</td>\n",
       "      <td>0</td>\n",
       "    </tr>\n",
       "    <tr>\n",
       "      <th>...</th>\n",
       "      <td>...</td>\n",
       "      <td>...</td>\n",
       "      <td>...</td>\n",
       "      <td>...</td>\n",
       "      <td>...</td>\n",
       "      <td>...</td>\n",
       "    </tr>\n",
       "    <tr>\n",
       "      <th>9995</th>\n",
       "      <td>-118.977579</td>\n",
       "      <td>-7.956445</td>\n",
       "      <td>-12.032431</td>\n",
       "      <td>-0.820737</td>\n",
       "      <td>-0.172895</td>\n",
       "      <td>1</td>\n",
       "    </tr>\n",
       "    <tr>\n",
       "      <th>9996</th>\n",
       "      <td>-69.982793</td>\n",
       "      <td>-6.807540</td>\n",
       "      <td>-13.433592</td>\n",
       "      <td>1.183742</td>\n",
       "      <td>-0.039127</td>\n",
       "      <td>0</td>\n",
       "    </tr>\n",
       "    <tr>\n",
       "      <th>9997</th>\n",
       "      <td>-88.985088</td>\n",
       "      <td>-8.947921</td>\n",
       "      <td>-9.236363</td>\n",
       "      <td>4.393741</td>\n",
       "      <td>0.048864</td>\n",
       "      <td>0</td>\n",
       "    </tr>\n",
       "    <tr>\n",
       "      <th>9998</th>\n",
       "      <td>-106.985575</td>\n",
       "      <td>-4.909174</td>\n",
       "      <td>-12.706018</td>\n",
       "      <td>0.151579</td>\n",
       "      <td>0.009777</td>\n",
       "      <td>0</td>\n",
       "    </tr>\n",
       "    <tr>\n",
       "      <th>9999</th>\n",
       "      <td>-108.991878</td>\n",
       "      <td>-4.869663</td>\n",
       "      <td>-13.976734</td>\n",
       "      <td>4.085093</td>\n",
       "      <td>0.144073</td>\n",
       "      <td>0</td>\n",
       "    </tr>\n",
       "  </tbody>\n",
       "</table>\n",
       "<p>10000 rows × 6 columns</p>\n",
       "</div>"
      ],
      "text/plain": [
       "      Input_feature_1  Input_feature_2  Input_feature_3  Input_feature_4  \\\n",
       "0         -106.985375        -7.981836        -9.555150         3.340004   \n",
       "1          -96.979236        -8.012939        -7.923885        -0.560073   \n",
       "2         -108.996045        -1.031525        -8.018326         0.386976   \n",
       "3         -121.985085        -6.057694        -8.170966         0.378047   \n",
       "4          -95.976963        -9.916990       -11.407312         1.263163   \n",
       "...               ...              ...              ...              ...   \n",
       "9995      -118.977579        -7.956445       -12.032431        -0.820737   \n",
       "9996       -69.982793        -6.807540       -13.433592         1.183742   \n",
       "9997       -88.985088        -8.947921        -9.236363         4.393741   \n",
       "9998      -106.985575        -4.909174       -12.706018         0.151579   \n",
       "9999      -108.991878        -4.869663       -13.976734         4.085093   \n",
       "\n",
       "      Input_feature_5  Placement  \n",
       "0           -0.306328          0  \n",
       "1           -0.162169          0  \n",
       "2            0.270885          0  \n",
       "3            0.138325          0  \n",
       "4           -0.240179          0  \n",
       "...               ...        ...  \n",
       "9995        -0.172895          1  \n",
       "9996        -0.039127          0  \n",
       "9997         0.048864          0  \n",
       "9998         0.009777          0  \n",
       "9999         0.144073          0  \n",
       "\n",
       "[10000 rows x 6 columns]"
      ]
     },
     "execution_count": 31,
     "metadata": {},
     "output_type": "execute_result"
    }
   ],
   "source": [
    "new_data"
   ]
  },
  {
   "cell_type": "code",
   "execution_count": 32,
   "id": "31dbbf44",
   "metadata": {
    "execution": {
     "iopub.execute_input": "2025-10-08T04:42:08.212929Z",
     "iopub.status.busy": "2025-10-08T04:42:08.212598Z",
     "iopub.status.idle": "2025-10-08T04:42:08.563840Z",
     "shell.execute_reply": "2025-10-08T04:42:08.562563Z"
    },
    "papermill": {
     "duration": 0.364676,
     "end_time": "2025-10-08T04:42:08.565650",
     "exception": false,
     "start_time": "2025-10-08T04:42:08.200974",
     "status": "completed"
    },
    "tags": []
   },
   "outputs": [
    {
     "data": {
      "text/plain": [
       "<Axes: >"
      ]
     },
     "execution_count": 32,
     "metadata": {},
     "output_type": "execute_result"
    },
    {
     "data": {
      "image/png": "[encoded data removed]",
      "text/plain": [
       "<Figure size 640x480 with 2 Axes>"
      ]
     },
     "metadata": {},
     "output_type": "display_data"
    }
   ],
   "source": [
    "sns.heatmap(new_data.corr(),annot=True)"
   ]
  },
  {
   "cell_type": "code",
   "execution_count": 33,
   "id": "e3eb9ebb",
   "metadata": {
    "execution": {
     "iopub.execute_input": "2025-10-08T04:42:08.592100Z",
     "iopub.status.busy": "2025-10-08T04:42:08.591766Z",
     "iopub.status.idle": "2025-10-08T04:42:08.762522Z",
     "shell.execute_reply": "2025-10-08T04:42:08.761337Z"
    },
    "papermill": {
     "duration": 0.186326,
     "end_time": "2025-10-08T04:42:08.764181",
     "exception": false,
     "start_time": "2025-10-08T04:42:08.577855",
     "status": "completed"
    },
    "tags": []
   },
   "outputs": [
    {
     "data": {
      "text/plain": [
       "(array([  3.,  22., 101., 362., 572., 236., 208., 109.,  38.,   8.]),\n",
       " array([-157.98374855, -147.7834374 , -137.58312626, -127.38281511,\n",
       "        -117.18250397, -106.98219282,  -96.78188168,  -86.58157053,\n",
       "         -76.38125939,  -66.18094824,  -55.98063709]),\n",
       " <BarContainer object of 10 artists>)"
      ]
     },
     "execution_count": 33,
     "metadata": {},
     "output_type": "execute_result"
    },
    {
     "data": {
      "image/png": "[encoded data removed]",
      "text/plain": [
       "<Figure size 640x480 with 1 Axes>"
      ]
     },
     "metadata": {},
     "output_type": "display_data"
    }
   ],
   "source": [
    "plt.hist(new_data[new_data[new_data.columns[-1]]==1][new_data.columns[0]])"
   ]
  },
  {
   "cell_type": "code",
   "execution_count": 34,
   "id": "f8ff1be3",
   "metadata": {
    "execution": {
     "iopub.execute_input": "2025-10-08T04:42:08.793336Z",
     "iopub.status.busy": "2025-10-08T04:42:08.792988Z",
     "iopub.status.idle": "2025-10-08T04:42:08.804370Z",
     "shell.execute_reply": "2025-10-08T04:42:08.803354Z"
    },
    "papermill": {
     "duration": 0.029685,
     "end_time": "2025-10-08T04:42:08.806352",
     "exception": false,
     "start_time": "2025-10-08T04:42:08.776667",
     "status": "completed"
    },
    "tags": []
   },
   "outputs": [
    {
     "data": {
      "text/plain": [
       "6      -122.981852\n",
       "7      -110.996007\n",
       "18      -85.982336\n",
       "20     -120.993575\n",
       "23      -77.976418\n",
       "           ...    \n",
       "9964   -122.993803\n",
       "9978    -83.981477\n",
       "9992   -108.977394\n",
       "9994   -116.992906\n",
       "9995   -118.977579\n",
       "Name: Input_feature_1, Length: 1659, dtype: float64"
      ]
     },
     "execution_count": 34,
     "metadata": {},
     "output_type": "execute_result"
    }
   ],
   "source": [
    "new_data[new_data[new_data.columns[-1]]==1][new_data.columns[0]]"
   ]
  },
  {
   "cell_type": "code",
   "execution_count": 35,
   "id": "7a3797da",
   "metadata": {
    "execution": {
     "iopub.execute_input": "2025-10-08T04:42:08.832167Z",
     "iopub.status.busy": "2025-10-08T04:42:08.831850Z",
     "iopub.status.idle": "2025-10-08T04:42:08.839656Z",
     "shell.execute_reply": "2025-10-08T04:42:08.838580Z"
    },
    "papermill": {
     "duration": 0.022911,
     "end_time": "2025-10-08T04:42:08.841506",
     "exception": false,
     "start_time": "2025-10-08T04:42:08.818595",
     "status": "completed"
    },
    "tags": []
   },
   "outputs": [],
   "source": [
    "data =np.array(new_data[new_data[new_data.columns[-1]]==1][new_data.columns[0]])\n",
    "\n",
    "mu_vals=np.linspace(-120, -100, 100)\n",
    "sigma_vals=np.linspace(20,35,100)\n",
    "\n",
    "mu,sigma=np.meshgrid(mu_vals,sigma_vals)\n"
   ]
  },
  {
   "cell_type": "code",
   "execution_count": null,
   "id": "3736d33c",
   "metadata": {
    "papermill": {
     "duration": 0.012417,
     "end_time": "2025-10-08T04:42:08.866462",
     "exception": false,
     "start_time": "2025-10-08T04:42:08.854045",
     "status": "completed"
    },
    "tags": []
   },
   "outputs": [],
   "source": []
  }
 ],
 "metadata": {
  "kaggle": {
   "accelerator": "none",
   "dataSources": [
    {
     "datasetId": 7785114,
     "sourceId": 12349003,
     "sourceType": "datasetVersion"
    }
   ],
   "dockerImageVersionId": 31089,
   "isGpuEnabled": false,
   "isInternetEnabled": true,
   "language": "python",
   "sourceType": "notebook"
  },
  "kernelspec": {
   "display_name": "Python 3",
   "language": "python",
   "name": "python3"
  },
  "language_info": {
   "codemirror_mode": {
    "name": "ipython",
    "version": 3
   },
   "file_extension": ".py",
   "mimetype": "text/x-python",
   "name": "python",
   "nbconvert_exporter": "python",
   "pygments_lexer": "ipython3",
   "version": "3.11.13"
  },
  "papermill": {
   "default_parameters": {},
   "duration": 20.699972,
   "end_time": "2025-10-08T04:42:10.804876",
   "environment_variables": {},
   "exception": null,
   "input_path": "__notebook__.ipynb",
   "output_path": "__notebook__.ipynb",
   "parameters": {},
   "start_time": "2025-10-08T04:41:50.104904",
   "version": "2.6.0"
  }
 },
 "nbformat": 4,
 "nbformat_minor": 5
}
