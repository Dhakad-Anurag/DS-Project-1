{
 "cells": [
  {
   "cell_type": "code",
   "execution_count": 1,
   "id": "3bac3ff6",
   "metadata": {
    "_cell_guid": "b1076dfc-b9ad-4769-8c92-a6c4dae69d19",
    "_uuid": "8f2839f25d086af736a60e9eeb907d3b93b6e0e5",
    "execution": {
     "iopub.execute_input": "2025-09-05T03:38:41.848429Z",
     "iopub.status.busy": "2025-09-05T03:38:41.847443Z",
     "iopub.status.idle": "2025-09-05T03:38:46.358222Z",
     "shell.execute_reply": "2025-09-05T03:38:46.356126Z"
    },
    "papermill": {
     "duration": 4.520653,
     "end_time": "2025-09-05T03:38:46.361547",
     "exception": false,
     "start_time": "2025-09-05T03:38:41.840894",
     "status": "completed"
    },
    "tags": []
   },
   "outputs": [],
   "source": [
    "import pandas as pd \n",
    "import numpy as np\n",
    "import seaborn as sns\n",
    "import matplotlib.pyplot as plt"
   ]
  },
  {
   "cell_type": "code",
   "execution_count": 2,
   "id": "01b736a7",
   "metadata": {
    "execution": {
     "iopub.execute_input": "2025-09-05T03:38:46.374366Z",
     "iopub.status.busy": "2025-09-05T03:38:46.372795Z",
     "iopub.status.idle": "2025-09-05T03:38:46.455283Z",
     "shell.execute_reply": "2025-09-05T03:38:46.454122Z"
    },
    "papermill": {
     "duration": 0.090047,
     "end_time": "2025-09-05T03:38:46.457306",
     "exception": false,
     "start_time": "2025-09-05T03:38:46.367259",
     "status": "completed"
    },
    "tags": []
   },
   "outputs": [],
   "source": [
    "data = pd.read_csv(\"/kaggle/input/college-student-placement-factors-dataset/college_student_placement_dataset.csv\")"
   ]
  },
  {
   "cell_type": "code",
   "execution_count": 3,
   "id": "8e689863",
   "metadata": {
    "execution": {
     "iopub.execute_input": "2025-09-05T03:38:46.467396Z",
     "iopub.status.busy": "2025-09-05T03:38:46.467042Z",
     "iopub.status.idle": "2025-09-05T03:38:46.499774Z",
     "shell.execute_reply": "2025-09-05T03:38:46.498394Z"
    },
    "papermill": {
     "duration": 0.039786,
     "end_time": "2025-09-05T03:38:46.501668",
     "exception": false,
     "start_time": "2025-09-05T03:38:46.461882",
     "status": "completed"
    },
    "tags": []
   },
   "outputs": [
    {
     "data": {
      "text/html": [
       "<div>\n",
       "<style scoped>\n",
       "    .dataframe tbody tr th:only-of-type {\n",
       "        vertical-align: middle;\n",
       "    }\n",
       "\n",
       "    .dataframe tbody tr th {\n",
       "        vertical-align: top;\n",
       "    }\n",
       "\n",
       "    .dataframe thead th {\n",
       "        text-align: right;\n",
       "    }\n",
       "</style>\n",
       "<table border=\"1\" class=\"dataframe\">\n",
       "  <thead>\n",
       "    <tr style=\"text-align: right;\">\n",
       "      <th></th>\n",
       "      <th>College_ID</th>\n",
       "      <th>IQ</th>\n",
       "      <th>Prev_Sem_Result</th>\n",
       "      <th>CGPA</th>\n",
       "      <th>Academic_Performance</th>\n",
       "      <th>Internship_Experience</th>\n",
       "      <th>Extra_Curricular_Score</th>\n",
       "      <th>Communication_Skills</th>\n",
       "      <th>Projects_Completed</th>\n",
       "      <th>Placement</th>\n",
       "    </tr>\n",
       "  </thead>\n",
       "  <tbody>\n",
       "    <tr>\n",
       "      <th>0</th>\n",
       "      <td>CLG0030</td>\n",
       "      <td>107</td>\n",
       "      <td>6.61</td>\n",
       "      <td>6.28</td>\n",
       "      <td>8</td>\n",
       "      <td>No</td>\n",
       "      <td>8</td>\n",
       "      <td>8</td>\n",
       "      <td>4</td>\n",
       "      <td>No</td>\n",
       "    </tr>\n",
       "    <tr>\n",
       "      <th>1</th>\n",
       "      <td>CLG0061</td>\n",
       "      <td>97</td>\n",
       "      <td>5.52</td>\n",
       "      <td>5.37</td>\n",
       "      <td>8</td>\n",
       "      <td>No</td>\n",
       "      <td>7</td>\n",
       "      <td>8</td>\n",
       "      <td>0</td>\n",
       "      <td>No</td>\n",
       "    </tr>\n",
       "    <tr>\n",
       "      <th>2</th>\n",
       "      <td>CLG0036</td>\n",
       "      <td>109</td>\n",
       "      <td>5.36</td>\n",
       "      <td>5.83</td>\n",
       "      <td>9</td>\n",
       "      <td>No</td>\n",
       "      <td>3</td>\n",
       "      <td>1</td>\n",
       "      <td>1</td>\n",
       "      <td>No</td>\n",
       "    </tr>\n",
       "    <tr>\n",
       "      <th>3</th>\n",
       "      <td>CLG0055</td>\n",
       "      <td>122</td>\n",
       "      <td>5.47</td>\n",
       "      <td>5.75</td>\n",
       "      <td>6</td>\n",
       "      <td>Yes</td>\n",
       "      <td>1</td>\n",
       "      <td>6</td>\n",
       "      <td>1</td>\n",
       "      <td>No</td>\n",
       "    </tr>\n",
       "    <tr>\n",
       "      <th>4</th>\n",
       "      <td>CLG0004</td>\n",
       "      <td>96</td>\n",
       "      <td>7.91</td>\n",
       "      <td>7.69</td>\n",
       "      <td>7</td>\n",
       "      <td>No</td>\n",
       "      <td>8</td>\n",
       "      <td>10</td>\n",
       "      <td>2</td>\n",
       "      <td>No</td>\n",
       "    </tr>\n",
       "  </tbody>\n",
       "</table>\n",
       "</div>"
      ],
      "text/plain": [
       "  College_ID   IQ  Prev_Sem_Result  CGPA  Academic_Performance  \\\n",
       "0    CLG0030  107             6.61  6.28                     8   \n",
       "1    CLG0061   97             5.52  5.37                     8   \n",
       "2    CLG0036  109             5.36  5.83                     9   \n",
       "3    CLG0055  122             5.47  5.75                     6   \n",
       "4    CLG0004   96             7.91  7.69                     7   \n",
       "\n",
       "  Internship_Experience  Extra_Curricular_Score  Communication_Skills  \\\n",
       "0                    No                       8                     8   \n",
       "1                    No                       7                     8   \n",
       "2                    No                       3                     1   \n",
       "3                   Yes                       1                     6   \n",
       "4                    No                       8                    10   \n",
       "\n",
       "   Projects_Completed Placement  \n",
       "0                   4        No  \n",
       "1                   0        No  \n",
       "2                   1        No  \n",
       "3                   1        No  \n",
       "4                   2        No  "
      ]
     },
     "execution_count": 3,
     "metadata": {},
     "output_type": "execute_result"
    }
   ],
   "source": [
    "data.head()"
   ]
  },
  {
   "cell_type": "code",
   "execution_count": 4,
   "id": "fa879fb4",
   "metadata": {
    "execution": {
     "iopub.execute_input": "2025-09-05T03:38:46.512938Z",
     "iopub.status.busy": "2025-09-05T03:38:46.512614Z",
     "iopub.status.idle": "2025-09-05T03:38:46.526976Z",
     "shell.execute_reply": "2025-09-05T03:38:46.525706Z"
    },
    "papermill": {
     "duration": 0.021993,
     "end_time": "2025-09-05T03:38:46.529151",
     "exception": false,
     "start_time": "2025-09-05T03:38:46.507158",
     "status": "completed"
    },
    "tags": []
   },
   "outputs": [
    {
     "data": {
      "text/html": [
       "<div>\n",
       "<style scoped>\n",
       "    .dataframe tbody tr th:only-of-type {\n",
       "        vertical-align: middle;\n",
       "    }\n",
       "\n",
       "    .dataframe tbody tr th {\n",
       "        vertical-align: top;\n",
       "    }\n",
       "\n",
       "    .dataframe thead th {\n",
       "        text-align: right;\n",
       "    }\n",
       "</style>\n",
       "<table border=\"1\" class=\"dataframe\">\n",
       "  <thead>\n",
       "    <tr style=\"text-align: right;\">\n",
       "      <th></th>\n",
       "      <th>College_ID</th>\n",
       "      <th>IQ</th>\n",
       "      <th>Prev_Sem_Result</th>\n",
       "      <th>CGPA</th>\n",
       "      <th>Academic_Performance</th>\n",
       "      <th>Internship_Experience</th>\n",
       "      <th>Extra_Curricular_Score</th>\n",
       "      <th>Communication_Skills</th>\n",
       "      <th>Projects_Completed</th>\n",
       "      <th>Placement</th>\n",
       "    </tr>\n",
       "  </thead>\n",
       "  <tbody>\n",
       "    <tr>\n",
       "      <th>9995</th>\n",
       "      <td>CLG0021</td>\n",
       "      <td>119</td>\n",
       "      <td>8.41</td>\n",
       "      <td>8.29</td>\n",
       "      <td>4</td>\n",
       "      <td>No</td>\n",
       "      <td>1</td>\n",
       "      <td>8</td>\n",
       "      <td>0</td>\n",
       "      <td>Yes</td>\n",
       "    </tr>\n",
       "    <tr>\n",
       "      <th>9996</th>\n",
       "      <td>CLG0098</td>\n",
       "      <td>70</td>\n",
       "      <td>9.25</td>\n",
       "      <td>9.34</td>\n",
       "      <td>7</td>\n",
       "      <td>No</td>\n",
       "      <td>0</td>\n",
       "      <td>7</td>\n",
       "      <td>2</td>\n",
       "      <td>No</td>\n",
       "    </tr>\n",
       "    <tr>\n",
       "      <th>9997</th>\n",
       "      <td>CLG0066</td>\n",
       "      <td>89</td>\n",
       "      <td>6.08</td>\n",
       "      <td>6.25</td>\n",
       "      <td>3</td>\n",
       "      <td>Yes</td>\n",
       "      <td>3</td>\n",
       "      <td>9</td>\n",
       "      <td>5</td>\n",
       "      <td>No</td>\n",
       "    </tr>\n",
       "    <tr>\n",
       "      <th>9998</th>\n",
       "      <td>CLG0045</td>\n",
       "      <td>107</td>\n",
       "      <td>8.77</td>\n",
       "      <td>8.92</td>\n",
       "      <td>3</td>\n",
       "      <td>No</td>\n",
       "      <td>7</td>\n",
       "      <td>5</td>\n",
       "      <td>1</td>\n",
       "      <td>No</td>\n",
       "    </tr>\n",
       "    <tr>\n",
       "      <th>9999</th>\n",
       "      <td>CLG0060</td>\n",
       "      <td>109</td>\n",
       "      <td>9.41</td>\n",
       "      <td>9.77</td>\n",
       "      <td>8</td>\n",
       "      <td>No</td>\n",
       "      <td>3</td>\n",
       "      <td>5</td>\n",
       "      <td>5</td>\n",
       "      <td>No</td>\n",
       "    </tr>\n",
       "  </tbody>\n",
       "</table>\n",
       "</div>"
      ],
      "text/plain": [
       "     College_ID   IQ  Prev_Sem_Result  CGPA  Academic_Performance  \\\n",
       "9995    CLG0021  119             8.41  8.29                     4   \n",
       "9996    CLG0098   70             9.25  9.34                     7   \n",
       "9997    CLG0066   89             6.08  6.25                     3   \n",
       "9998    CLG0045  107             8.77  8.92                     3   \n",
       "9999    CLG0060  109             9.41  9.77                     8   \n",
       "\n",
       "     Internship_Experience  Extra_Curricular_Score  Communication_Skills  \\\n",
       "9995                    No                       1                     8   \n",
       "9996                    No                       0                     7   \n",
       "9997                   Yes                       3                     9   \n",
       "9998                    No                       7                     5   \n",
       "9999                    No                       3                     5   \n",
       "\n",
       "      Projects_Completed Placement  \n",
       "9995                   0       Yes  \n",
       "9996                   2        No  \n",
       "9997                   5        No  \n",
       "9998                   1        No  \n",
       "9999                   5        No  "
      ]
     },
     "execution_count": 4,
     "metadata": {},
     "output_type": "execute_result"
    }
   ],
   "source": [
    "data.tail()"
   ]
  },
  {
   "cell_type": "code",
   "execution_count": 5,
   "id": "a8b97ee5",
   "metadata": {
    "execution": {
     "iopub.execute_input": "2025-09-05T03:38:46.543906Z",
     "iopub.status.busy": "2025-09-05T03:38:46.543374Z",
     "iopub.status.idle": "2025-09-05T03:38:46.551119Z",
     "shell.execute_reply": "2025-09-05T03:38:46.549972Z"
    },
    "papermill": {
     "duration": 0.016139,
     "end_time": "2025-09-05T03:38:46.552965",
     "exception": false,
     "start_time": "2025-09-05T03:38:46.536826",
     "status": "completed"
    },
    "tags": []
   },
   "outputs": [
    {
     "data": {
      "text/plain": [
       "(10000, 10)"
      ]
     },
     "execution_count": 5,
     "metadata": {},
     "output_type": "execute_result"
    }
   ],
   "source": [
    "data.shape\n"
   ]
  },
  {
   "cell_type": "code",
   "execution_count": 6,
   "id": "32732cbb",
   "metadata": {
    "execution": {
     "iopub.execute_input": "2025-09-05T03:38:46.566199Z",
     "iopub.status.busy": "2025-09-05T03:38:46.565768Z",
     "iopub.status.idle": "2025-09-05T03:38:46.575391Z",
     "shell.execute_reply": "2025-09-05T03:38:46.574339Z"
    },
    "papermill": {
     "duration": 0.018196,
     "end_time": "2025-09-05T03:38:46.577593",
     "exception": false,
     "start_time": "2025-09-05T03:38:46.559397",
     "status": "completed"
    },
    "tags": []
   },
   "outputs": [
    {
     "data": {
      "text/plain": [
       "Index(['College_ID', 'IQ', 'Prev_Sem_Result', 'CGPA', 'Academic_Performance',\n",
       "       'Internship_Experience', 'Extra_Curricular_Score',\n",
       "       'Communication_Skills', 'Projects_Completed', 'Placement'],\n",
       "      dtype='object')"
      ]
     },
     "execution_count": 6,
     "metadata": {},
     "output_type": "execute_result"
    }
   ],
   "source": [
    "data.columns"
   ]
  },
  {
   "cell_type": "code",
   "execution_count": 7,
   "id": "b3e25f93",
   "metadata": {
    "execution": {
     "iopub.execute_input": "2025-09-05T03:38:46.596265Z",
     "iopub.status.busy": "2025-09-05T03:38:46.595314Z",
     "iopub.status.idle": "2025-09-05T03:38:46.601164Z",
     "shell.execute_reply": "2025-09-05T03:38:46.599862Z"
    },
    "papermill": {
     "duration": 0.017059,
     "end_time": "2025-09-05T03:38:46.603178",
     "exception": false,
     "start_time": "2025-09-05T03:38:46.586119",
     "status": "completed"
    },
    "tags": []
   },
   "outputs": [],
   "source": [
    "def strip_clg(x):\n",
    "    return int(x[3:])"
   ]
  },
  {
   "cell_type": "code",
   "execution_count": 8,
   "id": "6234338a",
   "metadata": {
    "execution": {
     "iopub.execute_input": "2025-09-05T03:38:46.616205Z",
     "iopub.status.busy": "2025-09-05T03:38:46.615854Z",
     "iopub.status.idle": "2025-09-05T03:38:46.636330Z",
     "shell.execute_reply": "2025-09-05T03:38:46.634685Z"
    },
    "papermill": {
     "duration": 0.030283,
     "end_time": "2025-09-05T03:38:46.639817",
     "exception": false,
     "start_time": "2025-09-05T03:38:46.609534",
     "status": "completed"
    },
    "tags": []
   },
   "outputs": [],
   "source": [
    "data[data.columns[0]]= data[data.columns[0]].apply(strip_clg)"
   ]
  },
  {
   "cell_type": "code",
   "execution_count": 9,
   "id": "27b34472",
   "metadata": {
    "execution": {
     "iopub.execute_input": "2025-09-05T03:38:46.656660Z",
     "iopub.status.busy": "2025-09-05T03:38:46.656133Z",
     "iopub.status.idle": "2025-09-05T03:38:46.673626Z",
     "shell.execute_reply": "2025-09-05T03:38:46.672390Z"
    },
    "papermill": {
     "duration": 0.025628,
     "end_time": "2025-09-05T03:38:46.675414",
     "exception": false,
     "start_time": "2025-09-05T03:38:46.649786",
     "status": "completed"
    },
    "tags": []
   },
   "outputs": [
    {
     "data": {
      "text/html": [
       "<div>\n",
       "<style scoped>\n",
       "    .dataframe tbody tr th:only-of-type {\n",
       "        vertical-align: middle;\n",
       "    }\n",
       "\n",
       "    .dataframe tbody tr th {\n",
       "        vertical-align: top;\n",
       "    }\n",
       "\n",
       "    .dataframe thead th {\n",
       "        text-align: right;\n",
       "    }\n",
       "</style>\n",
       "<table border=\"1\" class=\"dataframe\">\n",
       "  <thead>\n",
       "    <tr style=\"text-align: right;\">\n",
       "      <th></th>\n",
       "      <th>College_ID</th>\n",
       "      <th>IQ</th>\n",
       "      <th>Prev_Sem_Result</th>\n",
       "      <th>CGPA</th>\n",
       "      <th>Academic_Performance</th>\n",
       "      <th>Internship_Experience</th>\n",
       "      <th>Extra_Curricular_Score</th>\n",
       "      <th>Communication_Skills</th>\n",
       "      <th>Projects_Completed</th>\n",
       "      <th>Placement</th>\n",
       "    </tr>\n",
       "  </thead>\n",
       "  <tbody>\n",
       "    <tr>\n",
       "      <th>0</th>\n",
       "      <td>30</td>\n",
       "      <td>107</td>\n",
       "      <td>6.61</td>\n",
       "      <td>6.28</td>\n",
       "      <td>8</td>\n",
       "      <td>No</td>\n",
       "      <td>8</td>\n",
       "      <td>8</td>\n",
       "      <td>4</td>\n",
       "      <td>No</td>\n",
       "    </tr>\n",
       "    <tr>\n",
       "      <th>1</th>\n",
       "      <td>61</td>\n",
       "      <td>97</td>\n",
       "      <td>5.52</td>\n",
       "      <td>5.37</td>\n",
       "      <td>8</td>\n",
       "      <td>No</td>\n",
       "      <td>7</td>\n",
       "      <td>8</td>\n",
       "      <td>0</td>\n",
       "      <td>No</td>\n",
       "    </tr>\n",
       "    <tr>\n",
       "      <th>2</th>\n",
       "      <td>36</td>\n",
       "      <td>109</td>\n",
       "      <td>5.36</td>\n",
       "      <td>5.83</td>\n",
       "      <td>9</td>\n",
       "      <td>No</td>\n",
       "      <td>3</td>\n",
       "      <td>1</td>\n",
       "      <td>1</td>\n",
       "      <td>No</td>\n",
       "    </tr>\n",
       "    <tr>\n",
       "      <th>3</th>\n",
       "      <td>55</td>\n",
       "      <td>122</td>\n",
       "      <td>5.47</td>\n",
       "      <td>5.75</td>\n",
       "      <td>6</td>\n",
       "      <td>Yes</td>\n",
       "      <td>1</td>\n",
       "      <td>6</td>\n",
       "      <td>1</td>\n",
       "      <td>No</td>\n",
       "    </tr>\n",
       "    <tr>\n",
       "      <th>4</th>\n",
       "      <td>4</td>\n",
       "      <td>96</td>\n",
       "      <td>7.91</td>\n",
       "      <td>7.69</td>\n",
       "      <td>7</td>\n",
       "      <td>No</td>\n",
       "      <td>8</td>\n",
       "      <td>10</td>\n",
       "      <td>2</td>\n",
       "      <td>No</td>\n",
       "    </tr>\n",
       "  </tbody>\n",
       "</table>\n",
       "</div>"
      ],
      "text/plain": [
       "   College_ID   IQ  Prev_Sem_Result  CGPA  Academic_Performance  \\\n",
       "0          30  107             6.61  6.28                     8   \n",
       "1          61   97             5.52  5.37                     8   \n",
       "2          36  109             5.36  5.83                     9   \n",
       "3          55  122             5.47  5.75                     6   \n",
       "4           4   96             7.91  7.69                     7   \n",
       "\n",
       "  Internship_Experience  Extra_Curricular_Score  Communication_Skills  \\\n",
       "0                    No                       8                     8   \n",
       "1                    No                       7                     8   \n",
       "2                    No                       3                     1   \n",
       "3                   Yes                       1                     6   \n",
       "4                    No                       8                    10   \n",
       "\n",
       "   Projects_Completed Placement  \n",
       "0                   4        No  \n",
       "1                   0        No  \n",
       "2                   1        No  \n",
       "3                   1        No  \n",
       "4                   2        No  "
      ]
     },
     "execution_count": 9,
     "metadata": {},
     "output_type": "execute_result"
    }
   ],
   "source": [
    "data.head()"
   ]
  },
  {
   "cell_type": "code",
   "execution_count": 10,
   "id": "f3983212",
   "metadata": {
    "execution": {
     "iopub.execute_input": "2025-09-05T03:38:46.687451Z",
     "iopub.status.busy": "2025-09-05T03:38:46.687096Z",
     "iopub.status.idle": "2025-09-05T03:38:46.692428Z",
     "shell.execute_reply": "2025-09-05T03:38:46.690807Z"
    },
    "papermill": {
     "duration": 0.013375,
     "end_time": "2025-09-05T03:38:46.694324",
     "exception": false,
     "start_time": "2025-09-05T03:38:46.680949",
     "status": "completed"
    },
    "tags": []
   },
   "outputs": [],
   "source": [
    "no_yes_dict = {\"No\":0,\"Yes\":1}\n",
    "# no_yes_dict_internship_exp = dict(zip(data[data.columns[5]].unique(),range(data[data.columns[5]],unique().shape[0])))\n",
    "# no_yes_dict_placement = dict(zip(data[data.columns[-1]].unique(),range(data[data.columns[-1]],unique().shape[0])))"
   ]
  },
  {
   "cell_type": "code",
   "execution_count": 11,
   "id": "c1022e20",
   "metadata": {
    "execution": {
     "iopub.execute_input": "2025-09-05T03:38:46.706654Z",
     "iopub.status.busy": "2025-09-05T03:38:46.706280Z",
     "iopub.status.idle": "2025-09-05T03:38:46.716935Z",
     "shell.execute_reply": "2025-09-05T03:38:46.715876Z"
    },
    "papermill": {
     "duration": 0.019051,
     "end_time": "2025-09-05T03:38:46.718953",
     "exception": false,
     "start_time": "2025-09-05T03:38:46.699902",
     "status": "completed"
    },
    "tags": []
   },
   "outputs": [],
   "source": [
    "data[data.columns[5]] = data[data.columns[5]].map(no_yes_dict)"
   ]
  },
  {
   "cell_type": "code",
   "execution_count": 12,
   "id": "5f30fd06",
   "metadata": {
    "execution": {
     "iopub.execute_input": "2025-09-05T03:38:46.731179Z",
     "iopub.status.busy": "2025-09-05T03:38:46.730815Z",
     "iopub.status.idle": "2025-09-05T03:38:46.738212Z",
     "shell.execute_reply": "2025-09-05T03:38:46.737114Z"
    },
    "papermill": {
     "duration": 0.016178,
     "end_time": "2025-09-05T03:38:46.740233",
     "exception": false,
     "start_time": "2025-09-05T03:38:46.724055",
     "status": "completed"
    },
    "tags": []
   },
   "outputs": [],
   "source": [
    "data[data.columns[9]] = data[data.columns[9]].map(no_yes_dict)"
   ]
  },
  {
   "cell_type": "code",
   "execution_count": 13,
   "id": "fe8a5699",
   "metadata": {
    "execution": {
     "iopub.execute_input": "2025-09-05T03:38:46.751936Z",
     "iopub.status.busy": "2025-09-05T03:38:46.751562Z",
     "iopub.status.idle": "2025-09-05T03:38:46.767004Z",
     "shell.execute_reply": "2025-09-05T03:38:46.765298Z"
    },
    "papermill": {
     "duration": 0.024402,
     "end_time": "2025-09-05T03:38:46.769694",
     "exception": false,
     "start_time": "2025-09-05T03:38:46.745292",
     "status": "completed"
    },
    "tags": []
   },
   "outputs": [
    {
     "data": {
      "text/html": [
       "<div>\n",
       "<style scoped>\n",
       "    .dataframe tbody tr th:only-of-type {\n",
       "        vertical-align: middle;\n",
       "    }\n",
       "\n",
       "    .dataframe tbody tr th {\n",
       "        vertical-align: top;\n",
       "    }\n",
       "\n",
       "    .dataframe thead th {\n",
       "        text-align: right;\n",
       "    }\n",
       "</style>\n",
       "<table border=\"1\" class=\"dataframe\">\n",
       "  <thead>\n",
       "    <tr style=\"text-align: right;\">\n",
       "      <th></th>\n",
       "      <th>College_ID</th>\n",
       "      <th>IQ</th>\n",
       "      <th>Prev_Sem_Result</th>\n",
       "      <th>CGPA</th>\n",
       "      <th>Academic_Performance</th>\n",
       "      <th>Internship_Experience</th>\n",
       "      <th>Extra_Curricular_Score</th>\n",
       "      <th>Communication_Skills</th>\n",
       "      <th>Projects_Completed</th>\n",
       "      <th>Placement</th>\n",
       "    </tr>\n",
       "  </thead>\n",
       "  <tbody>\n",
       "    <tr>\n",
       "      <th>0</th>\n",
       "      <td>30</td>\n",
       "      <td>107</td>\n",
       "      <td>6.61</td>\n",
       "      <td>6.28</td>\n",
       "      <td>8</td>\n",
       "      <td>0</td>\n",
       "      <td>8</td>\n",
       "      <td>8</td>\n",
       "      <td>4</td>\n",
       "      <td>0</td>\n",
       "    </tr>\n",
       "    <tr>\n",
       "      <th>1</th>\n",
       "      <td>61</td>\n",
       "      <td>97</td>\n",
       "      <td>5.52</td>\n",
       "      <td>5.37</td>\n",
       "      <td>8</td>\n",
       "      <td>0</td>\n",
       "      <td>7</td>\n",
       "      <td>8</td>\n",
       "      <td>0</td>\n",
       "      <td>0</td>\n",
       "    </tr>\n",
       "    <tr>\n",
       "      <th>2</th>\n",
       "      <td>36</td>\n",
       "      <td>109</td>\n",
       "      <td>5.36</td>\n",
       "      <td>5.83</td>\n",
       "      <td>9</td>\n",
       "      <td>0</td>\n",
       "      <td>3</td>\n",
       "      <td>1</td>\n",
       "      <td>1</td>\n",
       "      <td>0</td>\n",
       "    </tr>\n",
       "    <tr>\n",
       "      <th>3</th>\n",
       "      <td>55</td>\n",
       "      <td>122</td>\n",
       "      <td>5.47</td>\n",
       "      <td>5.75</td>\n",
       "      <td>6</td>\n",
       "      <td>1</td>\n",
       "      <td>1</td>\n",
       "      <td>6</td>\n",
       "      <td>1</td>\n",
       "      <td>0</td>\n",
       "    </tr>\n",
       "    <tr>\n",
       "      <th>4</th>\n",
       "      <td>4</td>\n",
       "      <td>96</td>\n",
       "      <td>7.91</td>\n",
       "      <td>7.69</td>\n",
       "      <td>7</td>\n",
       "      <td>0</td>\n",
       "      <td>8</td>\n",
       "      <td>10</td>\n",
       "      <td>2</td>\n",
       "      <td>0</td>\n",
       "    </tr>\n",
       "  </tbody>\n",
       "</table>\n",
       "</div>"
      ],
      "text/plain": [
       "   College_ID   IQ  Prev_Sem_Result  CGPA  Academic_Performance  \\\n",
       "0          30  107             6.61  6.28                     8   \n",
       "1          61   97             5.52  5.37                     8   \n",
       "2          36  109             5.36  5.83                     9   \n",
       "3          55  122             5.47  5.75                     6   \n",
       "4           4   96             7.91  7.69                     7   \n",
       "\n",
       "   Internship_Experience  Extra_Curricular_Score  Communication_Skills  \\\n",
       "0                      0                       8                     8   \n",
       "1                      0                       7                     8   \n",
       "2                      0                       3                     1   \n",
       "3                      1                       1                     6   \n",
       "4                      0                       8                    10   \n",
       "\n",
       "   Projects_Completed  Placement  \n",
       "0                   4          0  \n",
       "1                   0          0  \n",
       "2                   1          0  \n",
       "3                   1          0  \n",
       "4                   2          0  "
      ]
     },
     "execution_count": 13,
     "metadata": {},
     "output_type": "execute_result"
    }
   ],
   "source": [
    "data.head()"
   ]
  },
  {
   "cell_type": "code",
   "execution_count": 14,
   "id": "9f2b484c",
   "metadata": {
    "execution": {
     "iopub.execute_input": "2025-09-05T03:38:46.781818Z",
     "iopub.status.busy": "2025-09-05T03:38:46.781415Z",
     "iopub.status.idle": "2025-09-05T03:38:46.796817Z",
     "shell.execute_reply": "2025-09-05T03:38:46.795751Z"
    },
    "papermill": {
     "duration": 0.023579,
     "end_time": "2025-09-05T03:38:46.798777",
     "exception": false,
     "start_time": "2025-09-05T03:38:46.775198",
     "status": "completed"
    },
    "tags": []
   },
   "outputs": [],
   "source": [
    "corr_data = data.corr()"
   ]
  },
  {
   "cell_type": "code",
   "execution_count": 15,
   "id": "c1aa3392",
   "metadata": {
    "execution": {
     "iopub.execute_input": "2025-09-05T03:38:46.811068Z",
     "iopub.status.busy": "2025-09-05T03:38:46.810718Z",
     "iopub.status.idle": "2025-09-05T03:38:46.826748Z",
     "shell.execute_reply": "2025-09-05T03:38:46.825407Z"
    },
    "papermill": {
     "duration": 0.024364,
     "end_time": "2025-09-05T03:38:46.828349",
     "exception": false,
     "start_time": "2025-09-05T03:38:46.803985",
     "status": "completed"
    },
    "tags": []
   },
   "outputs": [
    {
     "data": {
      "text/html": [
       "<div>\n",
       "<style scoped>\n",
       "    .dataframe tbody tr th:only-of-type {\n",
       "        vertical-align: middle;\n",
       "    }\n",
       "\n",
       "    .dataframe tbody tr th {\n",
       "        vertical-align: top;\n",
       "    }\n",
       "\n",
       "    .dataframe thead th {\n",
       "        text-align: right;\n",
       "    }\n",
       "</style>\n",
       "<table border=\"1\" class=\"dataframe\">\n",
       "  <thead>\n",
       "    <tr style=\"text-align: right;\">\n",
       "      <th></th>\n",
       "      <th>College_ID</th>\n",
       "      <th>IQ</th>\n",
       "      <th>Prev_Sem_Result</th>\n",
       "      <th>CGPA</th>\n",
       "      <th>Academic_Performance</th>\n",
       "      <th>Internship_Experience</th>\n",
       "      <th>Extra_Curricular_Score</th>\n",
       "      <th>Communication_Skills</th>\n",
       "      <th>Projects_Completed</th>\n",
       "      <th>Placement</th>\n",
       "    </tr>\n",
       "  </thead>\n",
       "  <tbody>\n",
       "    <tr>\n",
       "      <th>College_ID</th>\n",
       "      <td>1.000000</td>\n",
       "      <td>0.002473</td>\n",
       "      <td>-0.004060</td>\n",
       "      <td>-0.003422</td>\n",
       "      <td>-0.015442</td>\n",
       "      <td>0.012037</td>\n",
       "      <td>-0.003931</td>\n",
       "      <td>-0.005194</td>\n",
       "      <td>0.004903</td>\n",
       "      <td>0.002750</td>\n",
       "    </tr>\n",
       "    <tr>\n",
       "      <th>IQ</th>\n",
       "      <td>0.002473</td>\n",
       "      <td>1.000000</td>\n",
       "      <td>-0.002640</td>\n",
       "      <td>-0.002859</td>\n",
       "      <td>-0.006827</td>\n",
       "      <td>-0.000247</td>\n",
       "      <td>-0.003458</td>\n",
       "      <td>-0.010896</td>\n",
       "      <td>0.014538</td>\n",
       "      <td>0.285914</td>\n",
       "    </tr>\n",
       "    <tr>\n",
       "      <th>Prev_Sem_Result</th>\n",
       "      <td>-0.004060</td>\n",
       "      <td>-0.002640</td>\n",
       "      <td>1.000000</td>\n",
       "      <td>0.980768</td>\n",
       "      <td>-0.005765</td>\n",
       "      <td>-0.013347</td>\n",
       "      <td>0.009326</td>\n",
       "      <td>-0.017269</td>\n",
       "      <td>0.018434</td>\n",
       "      <td>0.317896</td>\n",
       "    </tr>\n",
       "    <tr>\n",
       "      <th>CGPA</th>\n",
       "      <td>-0.003422</td>\n",
       "      <td>-0.002859</td>\n",
       "      <td>0.980768</td>\n",
       "      <td>1.000000</td>\n",
       "      <td>-0.002958</td>\n",
       "      <td>-0.012562</td>\n",
       "      <td>0.011441</td>\n",
       "      <td>-0.018242</td>\n",
       "      <td>0.020872</td>\n",
       "      <td>0.321607</td>\n",
       "    </tr>\n",
       "    <tr>\n",
       "      <th>Academic_Performance</th>\n",
       "      <td>-0.015442</td>\n",
       "      <td>-0.006827</td>\n",
       "      <td>-0.005765</td>\n",
       "      <td>-0.002958</td>\n",
       "      <td>1.000000</td>\n",
       "      <td>0.025903</td>\n",
       "      <td>0.011774</td>\n",
       "      <td>-0.019733</td>\n",
       "      <td>-0.013148</td>\n",
       "      <td>-0.014920</td>\n",
       "    </tr>\n",
       "    <tr>\n",
       "      <th>Internship_Experience</th>\n",
       "      <td>0.012037</td>\n",
       "      <td>-0.000247</td>\n",
       "      <td>-0.013347</td>\n",
       "      <td>-0.012562</td>\n",
       "      <td>0.025903</td>\n",
       "      <td>1.000000</td>\n",
       "      <td>0.002093</td>\n",
       "      <td>-0.020437</td>\n",
       "      <td>-0.010260</td>\n",
       "      <td>-0.005841</td>\n",
       "    </tr>\n",
       "    <tr>\n",
       "      <th>Extra_Curricular_Score</th>\n",
       "      <td>-0.003931</td>\n",
       "      <td>-0.003458</td>\n",
       "      <td>0.009326</td>\n",
       "      <td>0.011441</td>\n",
       "      <td>0.011774</td>\n",
       "      <td>0.002093</td>\n",
       "      <td>1.000000</td>\n",
       "      <td>0.003769</td>\n",
       "      <td>0.008122</td>\n",
       "      <td>-0.004740</td>\n",
       "    </tr>\n",
       "    <tr>\n",
       "      <th>Communication_Skills</th>\n",
       "      <td>-0.005194</td>\n",
       "      <td>-0.010896</td>\n",
       "      <td>-0.017269</td>\n",
       "      <td>-0.018242</td>\n",
       "      <td>-0.019733</td>\n",
       "      <td>-0.020437</td>\n",
       "      <td>0.003769</td>\n",
       "      <td>1.000000</td>\n",
       "      <td>-0.004486</td>\n",
       "      <td>0.323155</td>\n",
       "    </tr>\n",
       "    <tr>\n",
       "      <th>Projects_Completed</th>\n",
       "      <td>0.004903</td>\n",
       "      <td>0.014538</td>\n",
       "      <td>0.018434</td>\n",
       "      <td>0.020872</td>\n",
       "      <td>-0.013148</td>\n",
       "      <td>-0.010260</td>\n",
       "      <td>0.008122</td>\n",
       "      <td>-0.004486</td>\n",
       "      <td>1.000000</td>\n",
       "      <td>0.217499</td>\n",
       "    </tr>\n",
       "    <tr>\n",
       "      <th>Placement</th>\n",
       "      <td>0.002750</td>\n",
       "      <td>0.285914</td>\n",
       "      <td>0.317896</td>\n",
       "      <td>0.321607</td>\n",
       "      <td>-0.014920</td>\n",
       "      <td>-0.005841</td>\n",
       "      <td>-0.004740</td>\n",
       "      <td>0.323155</td>\n",
       "      <td>0.217499</td>\n",
       "      <td>1.000000</td>\n",
       "    </tr>\n",
       "  </tbody>\n",
       "</table>\n",
       "</div>"
      ],
      "text/plain": [
       "                        College_ID        IQ  Prev_Sem_Result      CGPA  \\\n",
       "College_ID                1.000000  0.002473        -0.004060 -0.003422   \n",
       "IQ                        0.002473  1.000000        -0.002640 -0.002859   \n",
       "Prev_Sem_Result          -0.004060 -0.002640         1.000000  0.980768   \n",
       "CGPA                     -0.003422 -0.002859         0.980768  1.000000   \n",
       "Academic_Performance     -0.015442 -0.006827        -0.005765 -0.002958   \n",
       "Internship_Experience     0.012037 -0.000247        -0.013347 -0.012562   \n",
       "Extra_Curricular_Score   -0.003931 -0.003458         0.009326  0.011441   \n",
       "Communication_Skills     -0.005194 -0.010896        -0.017269 -0.018242   \n",
       "Projects_Completed        0.004903  0.014538         0.018434  0.020872   \n",
       "Placement                 0.002750  0.285914         0.317896  0.321607   \n",
       "\n",
       "                        Academic_Performance  Internship_Experience  \\\n",
       "College_ID                         -0.015442               0.012037   \n",
       "IQ                                 -0.006827              -0.000247   \n",
       "Prev_Sem_Result                    -0.005765              -0.013347   \n",
       "CGPA                               -0.002958              -0.012562   \n",
       "Academic_Performance                1.000000               0.025903   \n",
       "Internship_Experience               0.025903               1.000000   \n",
       "Extra_Curricular_Score              0.011774               0.002093   \n",
       "Communication_Skills               -0.019733              -0.020437   \n",
       "Projects_Completed                 -0.013148              -0.010260   \n",
       "Placement                          -0.014920              -0.005841   \n",
       "\n",
       "                        Extra_Curricular_Score  Communication_Skills  \\\n",
       "College_ID                           -0.003931             -0.005194   \n",
       "IQ                                   -0.003458             -0.010896   \n",
       "Prev_Sem_Result                       0.009326             -0.017269   \n",
       "CGPA                                  0.011441             -0.018242   \n",
       "Academic_Performance                  0.011774             -0.019733   \n",
       "Internship_Experience                 0.002093             -0.020437   \n",
       "Extra_Curricular_Score                1.000000              0.003769   \n",
       "Communication_Skills                  0.003769              1.000000   \n",
       "Projects_Completed                    0.008122             -0.004486   \n",
       "Placement                            -0.004740              0.323155   \n",
       "\n",
       "                        Projects_Completed  Placement  \n",
       "College_ID                        0.004903   0.002750  \n",
       "IQ                                0.014538   0.285914  \n",
       "Prev_Sem_Result                   0.018434   0.317896  \n",
       "CGPA                              0.020872   0.321607  \n",
       "Academic_Performance             -0.013148  -0.014920  \n",
       "Internship_Experience            -0.010260  -0.005841  \n",
       "Extra_Curricular_Score            0.008122  -0.004740  \n",
       "Communication_Skills             -0.004486   0.323155  \n",
       "Projects_Completed                1.000000   0.217499  \n",
       "Placement                         0.217499   1.000000  "
      ]
     },
     "execution_count": 15,
     "metadata": {},
     "output_type": "execute_result"
    }
   ],
   "source": [
    "corr_data"
   ]
  },
  {
   "cell_type": "code",
   "execution_count": 16,
   "id": "3bb53d94",
   "metadata": {
    "execution": {
     "iopub.execute_input": "2025-09-05T03:38:46.841863Z",
     "iopub.status.busy": "2025-09-05T03:38:46.841356Z",
     "iopub.status.idle": "2025-09-05T03:38:46.850598Z",
     "shell.execute_reply": "2025-09-05T03:38:46.849377Z"
    },
    "papermill": {
     "duration": 0.017911,
     "end_time": "2025-09-05T03:38:46.852556",
     "exception": false,
     "start_time": "2025-09-05T03:38:46.834645",
     "status": "completed"
    },
    "tags": []
   },
   "outputs": [],
   "source": [
    "feature_selected_data = data[[data.columns[1],data.columns[2],data.columns[3],data.columns[7],data.columns[8],data.columns[9]]]"
   ]
  },
  {
   "cell_type": "code",
   "execution_count": 17,
   "id": "34b6357f",
   "metadata": {
    "execution": {
     "iopub.execute_input": "2025-09-05T03:38:46.865605Z",
     "iopub.status.busy": "2025-09-05T03:38:46.865218Z",
     "iopub.status.idle": "2025-09-05T03:38:46.880297Z",
     "shell.execute_reply": "2025-09-05T03:38:46.879069Z"
    },
    "papermill": {
     "duration": 0.023566,
     "end_time": "2025-09-05T03:38:46.882112",
     "exception": false,
     "start_time": "2025-09-05T03:38:46.858546",
     "status": "completed"
    },
    "tags": []
   },
   "outputs": [
    {
     "data": {
      "text/html": [
       "<div>\n",
       "<style scoped>\n",
       "    .dataframe tbody tr th:only-of-type {\n",
       "        vertical-align: middle;\n",
       "    }\n",
       "\n",
       "    .dataframe tbody tr th {\n",
       "        vertical-align: top;\n",
       "    }\n",
       "\n",
       "    .dataframe thead th {\n",
       "        text-align: right;\n",
       "    }\n",
       "</style>\n",
       "<table border=\"1\" class=\"dataframe\">\n",
       "  <thead>\n",
       "    <tr style=\"text-align: right;\">\n",
       "      <th></th>\n",
       "      <th>IQ</th>\n",
       "      <th>Prev_Sem_Result</th>\n",
       "      <th>CGPA</th>\n",
       "      <th>Communication_Skills</th>\n",
       "      <th>Projects_Completed</th>\n",
       "      <th>Placement</th>\n",
       "    </tr>\n",
       "  </thead>\n",
       "  <tbody>\n",
       "    <tr>\n",
       "      <th>0</th>\n",
       "      <td>107</td>\n",
       "      <td>6.61</td>\n",
       "      <td>6.28</td>\n",
       "      <td>8</td>\n",
       "      <td>4</td>\n",
       "      <td>0</td>\n",
       "    </tr>\n",
       "    <tr>\n",
       "      <th>1</th>\n",
       "      <td>97</td>\n",
       "      <td>5.52</td>\n",
       "      <td>5.37</td>\n",
       "      <td>8</td>\n",
       "      <td>0</td>\n",
       "      <td>0</td>\n",
       "    </tr>\n",
       "    <tr>\n",
       "      <th>2</th>\n",
       "      <td>109</td>\n",
       "      <td>5.36</td>\n",
       "      <td>5.83</td>\n",
       "      <td>1</td>\n",
       "      <td>1</td>\n",
       "      <td>0</td>\n",
       "    </tr>\n",
       "    <tr>\n",
       "      <th>3</th>\n",
       "      <td>122</td>\n",
       "      <td>5.47</td>\n",
       "      <td>5.75</td>\n",
       "      <td>6</td>\n",
       "      <td>1</td>\n",
       "      <td>0</td>\n",
       "    </tr>\n",
       "    <tr>\n",
       "      <th>4</th>\n",
       "      <td>96</td>\n",
       "      <td>7.91</td>\n",
       "      <td>7.69</td>\n",
       "      <td>10</td>\n",
       "      <td>2</td>\n",
       "      <td>0</td>\n",
       "    </tr>\n",
       "    <tr>\n",
       "      <th>...</th>\n",
       "      <td>...</td>\n",
       "      <td>...</td>\n",
       "      <td>...</td>\n",
       "      <td>...</td>\n",
       "      <td>...</td>\n",
       "      <td>...</td>\n",
       "    </tr>\n",
       "    <tr>\n",
       "      <th>9995</th>\n",
       "      <td>119</td>\n",
       "      <td>8.41</td>\n",
       "      <td>8.29</td>\n",
       "      <td>8</td>\n",
       "      <td>0</td>\n",
       "      <td>1</td>\n",
       "    </tr>\n",
       "    <tr>\n",
       "      <th>9996</th>\n",
       "      <td>70</td>\n",
       "      <td>9.25</td>\n",
       "      <td>9.34</td>\n",
       "      <td>7</td>\n",
       "      <td>2</td>\n",
       "      <td>0</td>\n",
       "    </tr>\n",
       "    <tr>\n",
       "      <th>9997</th>\n",
       "      <td>89</td>\n",
       "      <td>6.08</td>\n",
       "      <td>6.25</td>\n",
       "      <td>9</td>\n",
       "      <td>5</td>\n",
       "      <td>0</td>\n",
       "    </tr>\n",
       "    <tr>\n",
       "      <th>9998</th>\n",
       "      <td>107</td>\n",
       "      <td>8.77</td>\n",
       "      <td>8.92</td>\n",
       "      <td>5</td>\n",
       "      <td>1</td>\n",
       "      <td>0</td>\n",
       "    </tr>\n",
       "    <tr>\n",
       "      <th>9999</th>\n",
       "      <td>109</td>\n",
       "      <td>9.41</td>\n",
       "      <td>9.77</td>\n",
       "      <td>5</td>\n",
       "      <td>5</td>\n",
       "      <td>0</td>\n",
       "    </tr>\n",
       "  </tbody>\n",
       "</table>\n",
       "<p>10000 rows × 6 columns</p>\n",
       "</div>"
      ],
      "text/plain": [
       "       IQ  Prev_Sem_Result  CGPA  Communication_Skills  Projects_Completed  \\\n",
       "0     107             6.61  6.28                     8                   4   \n",
       "1      97             5.52  5.37                     8                   0   \n",
       "2     109             5.36  5.83                     1                   1   \n",
       "3     122             5.47  5.75                     6                   1   \n",
       "4      96             7.91  7.69                    10                   2   \n",
       "...   ...              ...   ...                   ...                 ...   \n",
       "9995  119             8.41  8.29                     8                   0   \n",
       "9996   70             9.25  9.34                     7                   2   \n",
       "9997   89             6.08  6.25                     9                   5   \n",
       "9998  107             8.77  8.92                     5                   1   \n",
       "9999  109             9.41  9.77                     5                   5   \n",
       "\n",
       "      Placement  \n",
       "0             0  \n",
       "1             0  \n",
       "2             0  \n",
       "3             0  \n",
       "4             0  \n",
       "...         ...  \n",
       "9995          1  \n",
       "9996          0  \n",
       "9997          0  \n",
       "9998          0  \n",
       "9999          0  \n",
       "\n",
       "[10000 rows x 6 columns]"
      ]
     },
     "execution_count": 17,
     "metadata": {},
     "output_type": "execute_result"
    }
   ],
   "source": [
    "feature_selected_data"
   ]
  },
  {
   "cell_type": "code",
   "execution_count": 18,
   "id": "a8cd3c89",
   "metadata": {
    "execution": {
     "iopub.execute_input": "2025-09-05T03:38:46.895648Z",
     "iopub.status.busy": "2025-09-05T03:38:46.895280Z",
     "iopub.status.idle": "2025-09-05T03:38:46.903968Z",
     "shell.execute_reply": "2025-09-05T03:38:46.902572Z"
    },
    "papermill": {
     "duration": 0.017921,
     "end_time": "2025-09-05T03:38:46.905991",
     "exception": false,
     "start_time": "2025-09-05T03:38:46.888070",
     "status": "completed"
    },
    "tags": []
   },
   "outputs": [],
   "source": [
    "placement_equals_1 = data[data[data.columns[-1]] == 1].shape[0]/data.shape[0]"
   ]
  },
  {
   "cell_type": "code",
   "execution_count": 19,
   "id": "c722ddd4",
   "metadata": {
    "execution": {
     "iopub.execute_input": "2025-09-05T03:38:46.919385Z",
     "iopub.status.busy": "2025-09-05T03:38:46.919067Z",
     "iopub.status.idle": "2025-09-05T03:38:46.927085Z",
     "shell.execute_reply": "2025-09-05T03:38:46.924979Z"
    },
    "papermill": {
     "duration": 0.016919,
     "end_time": "2025-09-05T03:38:46.929012",
     "exception": false,
     "start_time": "2025-09-05T03:38:46.912093",
     "status": "completed"
    },
    "tags": []
   },
   "outputs": [
    {
     "data": {
      "text/plain": [
       "0.1659"
      ]
     },
     "execution_count": 19,
     "metadata": {},
     "output_type": "execute_result"
    }
   ],
   "source": [
    "placement_equals_1"
   ]
  },
  {
   "cell_type": "code",
   "execution_count": null,
   "id": "b3d4905b",
   "metadata": {
    "papermill": {
     "duration": 0.005789,
     "end_time": "2025-09-05T03:38:46.940739",
     "exception": false,
     "start_time": "2025-09-05T03:38:46.934950",
     "status": "completed"
    },
    "tags": []
   },
   "outputs": [],
   "source": []
  }
 ],
 "metadata": {
  "kaggle": {
   "accelerator": "none",
   "dataSources": [
    {
     "datasetId": 7785114,
     "sourceId": 12349003,
     "sourceType": "datasetVersion"
    }
   ],
   "dockerImageVersionId": 31089,
   "isGpuEnabled": false,
   "isInternetEnabled": true,
   "language": "python",
   "sourceType": "notebook"
  },
  "kernelspec": {
   "display_name": "Python 3",
   "language": "python",
   "name": "python3"
  },
  "language_info": {
   "codemirror_mode": {
    "name": "ipython",
    "version": 3
   },
   "file_extension": ".py",
   "mimetype": "text/x-python",
   "name": "python",
   "nbconvert_exporter": "python",
   "pygments_lexer": "ipython3",
   "version": "3.11.13"
  },
  "papermill": {
   "default_parameters": {},
   "duration": 14.91341,
   "end_time": "2025-09-05T03:38:47.668741",
   "environment_variables": {},
   "exception": null,
   "input_path": "__notebook__.ipynb",
   "output_path": "__notebook__.ipynb",
   "parameters": {},
   "start_time": "2025-09-05T03:38:32.755331",
   "version": "2.6.0"
  }
 },
 "nbformat": 4,
 "nbformat_minor": 5
}
