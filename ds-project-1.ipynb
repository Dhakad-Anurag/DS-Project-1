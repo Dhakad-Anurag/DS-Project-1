{
 "cells": [
  {
   "cell_type": "code",
   "execution_count": 1,
   "id": "0ec748e4",
   "metadata": {
    "_cell_guid": "b1076dfc-b9ad-4769-8c92-a6c4dae69d19",
    "_uuid": "8f2839f25d086af736a60e9eeb907d3b93b6e0e5",
    "execution": {
     "iopub.execute_input": "2025-09-05T03:40:14.405463Z",
     "iopub.status.busy": "2025-09-05T03:40:14.405158Z",
     "iopub.status.idle": "2025-09-05T03:40:18.193559Z",
     "shell.execute_reply": "2025-09-05T03:40:18.192623Z"
    },
    "papermill": {
     "duration": 3.796064,
     "end_time": "2025-09-05T03:40:18.195379",
     "exception": false,
     "start_time": "2025-09-05T03:40:14.399315",
     "status": "completed"
    },
    "tags": []
   },
   "outputs": [],
   "source": [
    "import pandas as pd \n",
    "import numpy as np\n",
    "import seaborn as sns\n",
    "import matplotlib.pyplot as plt"
   ]
  },
  {
   "cell_type": "code",
   "execution_count": 2,
   "id": "d425492f",
   "metadata": {
    "execution": {
     "iopub.execute_input": "2025-09-05T03:40:18.204621Z",
     "iopub.status.busy": "2025-09-05T03:40:18.204179Z",
     "iopub.status.idle": "2025-09-05T03:40:18.243755Z",
     "shell.execute_reply": "2025-09-05T03:40:18.242928Z"
    },
    "papermill": {
     "duration": 0.045999,
     "end_time": "2025-09-05T03:40:18.245531",
     "exception": false,
     "start_time": "2025-09-05T03:40:18.199532",
     "status": "completed"
    },
    "tags": []
   },
   "outputs": [],
   "source": [
    "data = pd.read_csv(\"/kaggle/input/college-student-placement-factors-dataset/college_student_placement_dataset.csv\")"
   ]
  },
  {
   "cell_type": "code",
   "execution_count": 3,
   "id": "a45f3f35",
   "metadata": {
    "execution": {
     "iopub.execute_input": "2025-09-05T03:40:18.255002Z",
     "iopub.status.busy": "2025-09-05T03:40:18.254663Z",
     "iopub.status.idle": "2025-09-05T03:40:18.283534Z",
     "shell.execute_reply": "2025-09-05T03:40:18.282647Z"
    },
    "papermill": {
     "duration": 0.03566,
     "end_time": "2025-09-05T03:40:18.285196",
     "exception": false,
     "start_time": "2025-09-05T03:40:18.249536",
     "status": "completed"
    },
    "tags": []
   },
   "outputs": [
    {
     "data": {
      "text/html": [
       "<div>\n",
       "<style scoped>\n",
       "    .dataframe tbody tr th:only-of-type {\n",
       "        vertical-align: middle;\n",
       "    }\n",
       "\n",
       "    .dataframe tbody tr th {\n",
       "        vertical-align: top;\n",
       "    }\n",
       "\n",
       "    .dataframe thead th {\n",
       "        text-align: right;\n",
       "    }\n",
       "</style>\n",
       "<table border=\"1\" class=\"dataframe\">\n",
       "  <thead>\n",
       "    <tr style=\"text-align: right;\">\n",
       "      <th></th>\n",
       "      <th>College_ID</th>\n",
       "      <th>IQ</th>\n",
       "      <th>Prev_Sem_Result</th>\n",
       "      <th>CGPA</th>\n",
       "      <th>Academic_Performance</th>\n",
       "      <th>Internship_Experience</th>\n",
       "      <th>Extra_Curricular_Score</th>\n",
       "      <th>Communication_Skills</th>\n",
       "      <th>Projects_Completed</th>\n",
       "      <th>Placement</th>\n",
       "    </tr>\n",
       "  </thead>\n",
       "  <tbody>\n",
       "    <tr>\n",
       "      <th>0</th>\n",
       "      <td>CLG0030</td>\n",
       "      <td>107</td>\n",
       "      <td>6.61</td>\n",
       "      <td>6.28</td>\n",
       "      <td>8</td>\n",
       "      <td>No</td>\n",
       "      <td>8</td>\n",
       "      <td>8</td>\n",
       "      <td>4</td>\n",
       "      <td>No</td>\n",
       "    </tr>\n",
       "    <tr>\n",
       "      <th>1</th>\n",
       "      <td>CLG0061</td>\n",
       "      <td>97</td>\n",
       "      <td>5.52</td>\n",
       "      <td>5.37</td>\n",
       "      <td>8</td>\n",
       "      <td>No</td>\n",
       "      <td>7</td>\n",
       "      <td>8</td>\n",
       "      <td>0</td>\n",
       "      <td>No</td>\n",
       "    </tr>\n",
       "    <tr>\n",
       "      <th>2</th>\n",
       "      <td>CLG0036</td>\n",
       "      <td>109</td>\n",
       "      <td>5.36</td>\n",
       "      <td>5.83</td>\n",
       "      <td>9</td>\n",
       "      <td>No</td>\n",
       "      <td>3</td>\n",
       "      <td>1</td>\n",
       "      <td>1</td>\n",
       "      <td>No</td>\n",
       "    </tr>\n",
       "    <tr>\n",
       "      <th>3</th>\n",
       "      <td>CLG0055</td>\n",
       "      <td>122</td>\n",
       "      <td>5.47</td>\n",
       "      <td>5.75</td>\n",
       "      <td>6</td>\n",
       "      <td>Yes</td>\n",
       "      <td>1</td>\n",
       "      <td>6</td>\n",
       "      <td>1</td>\n",
       "      <td>No</td>\n",
       "    </tr>\n",
       "    <tr>\n",
       "      <th>4</th>\n",
       "      <td>CLG0004</td>\n",
       "      <td>96</td>\n",
       "      <td>7.91</td>\n",
       "      <td>7.69</td>\n",
       "      <td>7</td>\n",
       "      <td>No</td>\n",
       "      <td>8</td>\n",
       "      <td>10</td>\n",
       "      <td>2</td>\n",
       "      <td>No</td>\n",
       "    </tr>\n",
       "  </tbody>\n",
       "</table>\n",
       "</div>"
      ],
      "text/plain": [
       "  College_ID   IQ  Prev_Sem_Result  CGPA  Academic_Performance  \\\n",
       "0    CLG0030  107             6.61  6.28                     8   \n",
       "1    CLG0061   97             5.52  5.37                     8   \n",
       "2    CLG0036  109             5.36  5.83                     9   \n",
       "3    CLG0055  122             5.47  5.75                     6   \n",
       "4    CLG0004   96             7.91  7.69                     7   \n",
       "\n",
       "  Internship_Experience  Extra_Curricular_Score  Communication_Skills  \\\n",
       "0                    No                       8                     8   \n",
       "1                    No                       7                     8   \n",
       "2                    No                       3                     1   \n",
       "3                   Yes                       1                     6   \n",
       "4                    No                       8                    10   \n",
       "\n",
       "   Projects_Completed Placement  \n",
       "0                   4        No  \n",
       "1                   0        No  \n",
       "2                   1        No  \n",
       "3                   1        No  \n",
       "4                   2        No  "
      ]
     },
     "execution_count": 3,
     "metadata": {},
     "output_type": "execute_result"
    }
   ],
   "source": [
    "data.head()"
   ]
  },
  {
   "cell_type": "code",
   "execution_count": 4,
   "id": "b2319f2f",
   "metadata": {
    "execution": {
     "iopub.execute_input": "2025-09-05T03:40:18.294708Z",
     "iopub.status.busy": "2025-09-05T03:40:18.294352Z",
     "iopub.status.idle": "2025-09-05T03:40:18.307790Z",
     "shell.execute_reply": "2025-09-05T03:40:18.306889Z"
    },
    "papermill": {
     "duration": 0.020023,
     "end_time": "2025-09-05T03:40:18.309265",
     "exception": false,
     "start_time": "2025-09-05T03:40:18.289242",
     "status": "completed"
    },
    "tags": []
   },
   "outputs": [
    {
     "data": {
      "text/html": [
       "<div>\n",
       "<style scoped>\n",
       "    .dataframe tbody tr th:only-of-type {\n",
       "        vertical-align: middle;\n",
       "    }\n",
       "\n",
       "    .dataframe tbody tr th {\n",
       "        vertical-align: top;\n",
       "    }\n",
       "\n",
       "    .dataframe thead th {\n",
       "        text-align: right;\n",
       "    }\n",
       "</style>\n",
       "<table border=\"1\" class=\"dataframe\">\n",
       "  <thead>\n",
       "    <tr style=\"text-align: right;\">\n",
       "      <th></th>\n",
       "      <th>College_ID</th>\n",
       "      <th>IQ</th>\n",
       "      <th>Prev_Sem_Result</th>\n",
       "      <th>CGPA</th>\n",
       "      <th>Academic_Performance</th>\n",
       "      <th>Internship_Experience</th>\n",
       "      <th>Extra_Curricular_Score</th>\n",
       "      <th>Communication_Skills</th>\n",
       "      <th>Projects_Completed</th>\n",
       "      <th>Placement</th>\n",
       "    </tr>\n",
       "  </thead>\n",
       "  <tbody>\n",
       "    <tr>\n",
       "      <th>9995</th>\n",
       "      <td>CLG0021</td>\n",
       "      <td>119</td>\n",
       "      <td>8.41</td>\n",
       "      <td>8.29</td>\n",
       "      <td>4</td>\n",
       "      <td>No</td>\n",
       "      <td>1</td>\n",
       "      <td>8</td>\n",
       "      <td>0</td>\n",
       "      <td>Yes</td>\n",
       "    </tr>\n",
       "    <tr>\n",
       "      <th>9996</th>\n",
       "      <td>CLG0098</td>\n",
       "      <td>70</td>\n",
       "      <td>9.25</td>\n",
       "      <td>9.34</td>\n",
       "      <td>7</td>\n",
       "      <td>No</td>\n",
       "      <td>0</td>\n",
       "      <td>7</td>\n",
       "      <td>2</td>\n",
       "      <td>No</td>\n",
       "    </tr>\n",
       "    <tr>\n",
       "      <th>9997</th>\n",
       "      <td>CLG0066</td>\n",
       "      <td>89</td>\n",
       "      <td>6.08</td>\n",
       "      <td>6.25</td>\n",
       "      <td>3</td>\n",
       "      <td>Yes</td>\n",
       "      <td>3</td>\n",
       "      <td>9</td>\n",
       "      <td>5</td>\n",
       "      <td>No</td>\n",
       "    </tr>\n",
       "    <tr>\n",
       "      <th>9998</th>\n",
       "      <td>CLG0045</td>\n",
       "      <td>107</td>\n",
       "      <td>8.77</td>\n",
       "      <td>8.92</td>\n",
       "      <td>3</td>\n",
       "      <td>No</td>\n",
       "      <td>7</td>\n",
       "      <td>5</td>\n",
       "      <td>1</td>\n",
       "      <td>No</td>\n",
       "    </tr>\n",
       "    <tr>\n",
       "      <th>9999</th>\n",
       "      <td>CLG0060</td>\n",
       "      <td>109</td>\n",
       "      <td>9.41</td>\n",
       "      <td>9.77</td>\n",
       "      <td>8</td>\n",
       "      <td>No</td>\n",
       "      <td>3</td>\n",
       "      <td>5</td>\n",
       "      <td>5</td>\n",
       "      <td>No</td>\n",
       "    </tr>\n",
       "  </tbody>\n",
       "</table>\n",
       "</div>"
      ],
      "text/plain": [
       "     College_ID   IQ  Prev_Sem_Result  CGPA  Academic_Performance  \\\n",
       "9995    CLG0021  119             8.41  8.29                     4   \n",
       "9996    CLG0098   70             9.25  9.34                     7   \n",
       "9997    CLG0066   89             6.08  6.25                     3   \n",
       "9998    CLG0045  107             8.77  8.92                     3   \n",
       "9999    CLG0060  109             9.41  9.77                     8   \n",
       "\n",
       "     Internship_Experience  Extra_Curricular_Score  Communication_Skills  \\\n",
       "9995                    No                       1                     8   \n",
       "9996                    No                       0                     7   \n",
       "9997                   Yes                       3                     9   \n",
       "9998                    No                       7                     5   \n",
       "9999                    No                       3                     5   \n",
       "\n",
       "      Projects_Completed Placement  \n",
       "9995                   0       Yes  \n",
       "9996                   2        No  \n",
       "9997                   5        No  \n",
       "9998                   1        No  \n",
       "9999                   5        No  "
      ]
     },
     "execution_count": 4,
     "metadata": {},
     "output_type": "execute_result"
    }
   ],
   "source": [
    "data.tail()"
   ]
  },
  {
   "cell_type": "code",
   "execution_count": 5,
   "id": "5c5a16e4",
   "metadata": {
    "execution": {
     "iopub.execute_input": "2025-09-05T03:40:18.318867Z",
     "iopub.status.busy": "2025-09-05T03:40:18.318545Z",
     "iopub.status.idle": "2025-09-05T03:40:18.325005Z",
     "shell.execute_reply": "2025-09-05T03:40:18.323980Z"
    },
    "papermill": {
     "duration": 0.013202,
     "end_time": "2025-09-05T03:40:18.326675",
     "exception": false,
     "start_time": "2025-09-05T03:40:18.313473",
     "status": "completed"
    },
    "tags": []
   },
   "outputs": [
    {
     "data": {
      "text/plain": [
       "(10000, 10)"
      ]
     },
     "execution_count": 5,
     "metadata": {},
     "output_type": "execute_result"
    }
   ],
   "source": [
    "data.shape\n"
   ]
  },
  {
   "cell_type": "code",
   "execution_count": 6,
   "id": "5a5c5e88",
   "metadata": {
    "execution": {
     "iopub.execute_input": "2025-09-05T03:40:18.337975Z",
     "iopub.status.busy": "2025-09-05T03:40:18.337606Z",
     "iopub.status.idle": "2025-09-05T03:40:18.345898Z",
     "shell.execute_reply": "2025-09-05T03:40:18.344663Z"
    },
    "papermill": {
     "duration": 0.015738,
     "end_time": "2025-09-05T03:40:18.347608",
     "exception": false,
     "start_time": "2025-09-05T03:40:18.331870",
     "status": "completed"
    },
    "tags": []
   },
   "outputs": [
    {
     "data": {
      "text/plain": [
       "Index(['College_ID', 'IQ', 'Prev_Sem_Result', 'CGPA', 'Academic_Performance',\n",
       "       'Internship_Experience', 'Extra_Curricular_Score',\n",
       "       'Communication_Skills', 'Projects_Completed', 'Placement'],\n",
       "      dtype='object')"
      ]
     },
     "execution_count": 6,
     "metadata": {},
     "output_type": "execute_result"
    }
   ],
   "source": [
    "data.columns"
   ]
  },
  {
   "cell_type": "code",
   "execution_count": 7,
   "id": "34f297f7",
   "metadata": {
    "execution": {
     "iopub.execute_input": "2025-09-05T03:40:18.357785Z",
     "iopub.status.busy": "2025-09-05T03:40:18.357493Z",
     "iopub.status.idle": "2025-09-05T03:40:18.362253Z",
     "shell.execute_reply": "2025-09-05T03:40:18.361148Z"
    },
    "papermill": {
     "duration": 0.011576,
     "end_time": "2025-09-05T03:40:18.363738",
     "exception": false,
     "start_time": "2025-09-05T03:40:18.352162",
     "status": "completed"
    },
    "tags": []
   },
   "outputs": [],
   "source": [
    "def strip_clg(x):\n",
    "    return int(x[3:])"
   ]
  },
  {
   "cell_type": "code",
   "execution_count": 8,
   "id": "57754f2b",
   "metadata": {
    "execution": {
     "iopub.execute_input": "2025-09-05T03:40:18.373861Z",
     "iopub.status.busy": "2025-09-05T03:40:18.373510Z",
     "iopub.status.idle": "2025-09-05T03:40:18.385871Z",
     "shell.execute_reply": "2025-09-05T03:40:18.384931Z"
    },
    "papermill": {
     "duration": 0.019012,
     "end_time": "2025-09-05T03:40:18.387422",
     "exception": false,
     "start_time": "2025-09-05T03:40:18.368410",
     "status": "completed"
    },
    "tags": []
   },
   "outputs": [],
   "source": [
    "data[data.columns[0]]= data[data.columns[0]].apply(strip_clg)"
   ]
  },
  {
   "cell_type": "code",
   "execution_count": 9,
   "id": "e2b4a5e2",
   "metadata": {
    "execution": {
     "iopub.execute_input": "2025-09-05T03:40:18.397931Z",
     "iopub.status.busy": "2025-09-05T03:40:18.397585Z",
     "iopub.status.idle": "2025-09-05T03:40:18.411216Z",
     "shell.execute_reply": "2025-09-05T03:40:18.410086Z"
    },
    "papermill": {
     "duration": 0.020226,
     "end_time": "2025-09-05T03:40:18.412792",
     "exception": false,
     "start_time": "2025-09-05T03:40:18.392566",
     "status": "completed"
    },
    "tags": []
   },
   "outputs": [
    {
     "data": {
      "text/html": [
       "<div>\n",
       "<style scoped>\n",
       "    .dataframe tbody tr th:only-of-type {\n",
       "        vertical-align: middle;\n",
       "    }\n",
       "\n",
       "    .dataframe tbody tr th {\n",
       "        vertical-align: top;\n",
       "    }\n",
       "\n",
       "    .dataframe thead th {\n",
       "        text-align: right;\n",
       "    }\n",
       "</style>\n",
       "<table border=\"1\" class=\"dataframe\">\n",
       "  <thead>\n",
       "    <tr style=\"text-align: right;\">\n",
       "      <th></th>\n",
       "      <th>College_ID</th>\n",
       "      <th>IQ</th>\n",
       "      <th>Prev_Sem_Result</th>\n",
       "      <th>CGPA</th>\n",
       "      <th>Academic_Performance</th>\n",
       "      <th>Internship_Experience</th>\n",
       "      <th>Extra_Curricular_Score</th>\n",
       "      <th>Communication_Skills</th>\n",
       "      <th>Projects_Completed</th>\n",
       "      <th>Placement</th>\n",
       "    </tr>\n",
       "  </thead>\n",
       "  <tbody>\n",
       "    <tr>\n",
       "      <th>0</th>\n",
       "      <td>30</td>\n",
       "      <td>107</td>\n",
       "      <td>6.61</td>\n",
       "      <td>6.28</td>\n",
       "      <td>8</td>\n",
       "      <td>No</td>\n",
       "      <td>8</td>\n",
       "      <td>8</td>\n",
       "      <td>4</td>\n",
       "      <td>No</td>\n",
       "    </tr>\n",
       "    <tr>\n",
       "      <th>1</th>\n",
       "      <td>61</td>\n",
       "      <td>97</td>\n",
       "      <td>5.52</td>\n",
       "      <td>5.37</td>\n",
       "      <td>8</td>\n",
       "      <td>No</td>\n",
       "      <td>7</td>\n",
       "      <td>8</td>\n",
       "      <td>0</td>\n",
       "      <td>No</td>\n",
       "    </tr>\n",
       "    <tr>\n",
       "      <th>2</th>\n",
       "      <td>36</td>\n",
       "      <td>109</td>\n",
       "      <td>5.36</td>\n",
       "      <td>5.83</td>\n",
       "      <td>9</td>\n",
       "      <td>No</td>\n",
       "      <td>3</td>\n",
       "      <td>1</td>\n",
       "      <td>1</td>\n",
       "      <td>No</td>\n",
       "    </tr>\n",
       "    <tr>\n",
       "      <th>3</th>\n",
       "      <td>55</td>\n",
       "      <td>122</td>\n",
       "      <td>5.47</td>\n",
       "      <td>5.75</td>\n",
       "      <td>6</td>\n",
       "      <td>Yes</td>\n",
       "      <td>1</td>\n",
       "      <td>6</td>\n",
       "      <td>1</td>\n",
       "      <td>No</td>\n",
       "    </tr>\n",
       "    <tr>\n",
       "      <th>4</th>\n",
       "      <td>4</td>\n",
       "      <td>96</td>\n",
       "      <td>7.91</td>\n",
       "      <td>7.69</td>\n",
       "      <td>7</td>\n",
       "      <td>No</td>\n",
       "      <td>8</td>\n",
       "      <td>10</td>\n",
       "      <td>2</td>\n",
       "      <td>No</td>\n",
       "    </tr>\n",
       "  </tbody>\n",
       "</table>\n",
       "</div>"
      ],
      "text/plain": [
       "   College_ID   IQ  Prev_Sem_Result  CGPA  Academic_Performance  \\\n",
       "0          30  107             6.61  6.28                     8   \n",
       "1          61   97             5.52  5.37                     8   \n",
       "2          36  109             5.36  5.83                     9   \n",
       "3          55  122             5.47  5.75                     6   \n",
       "4           4   96             7.91  7.69                     7   \n",
       "\n",
       "  Internship_Experience  Extra_Curricular_Score  Communication_Skills  \\\n",
       "0                    No                       8                     8   \n",
       "1                    No                       7                     8   \n",
       "2                    No                       3                     1   \n",
       "3                   Yes                       1                     6   \n",
       "4                    No                       8                    10   \n",
       "\n",
       "   Projects_Completed Placement  \n",
       "0                   4        No  \n",
       "1                   0        No  \n",
       "2                   1        No  \n",
       "3                   1        No  \n",
       "4                   2        No  "
      ]
     },
     "execution_count": 9,
     "metadata": {},
     "output_type": "execute_result"
    }
   ],
   "source": [
    "data.head()"
   ]
  },
  {
   "cell_type": "code",
   "execution_count": 10,
   "id": "30660306",
   "metadata": {
    "execution": {
     "iopub.execute_input": "2025-09-05T03:40:18.423283Z",
     "iopub.status.busy": "2025-09-05T03:40:18.422946Z",
     "iopub.status.idle": "2025-09-05T03:40:18.428027Z",
     "shell.execute_reply": "2025-09-05T03:40:18.426880Z"
    },
    "papermill": {
     "duration": 0.012215,
     "end_time": "2025-09-05T03:40:18.429772",
     "exception": false,
     "start_time": "2025-09-05T03:40:18.417557",
     "status": "completed"
    },
    "tags": []
   },
   "outputs": [],
   "source": [
    "no_yes_dict = {\"No\":0,\"Yes\":1}\n",
    "# no_yes_dict_internship_exp = dict(zip(data[data.columns[5]].unique(),range(data[data.columns[5]],unique().shape[0])))\n",
    "# no_yes_dict_placement = dict(zip(data[data.columns[-1]].unique(),range(data[data.columns[-1]],unique().shape[0])))"
   ]
  },
  {
   "cell_type": "code",
   "execution_count": 11,
   "id": "a05d0e79",
   "metadata": {
    "execution": {
     "iopub.execute_input": "2025-09-05T03:40:18.439911Z",
     "iopub.status.busy": "2025-09-05T03:40:18.439601Z",
     "iopub.status.idle": "2025-09-05T03:40:18.448204Z",
     "shell.execute_reply": "2025-09-05T03:40:18.447166Z"
    },
    "papermill": {
     "duration": 0.015791,
     "end_time": "2025-09-05T03:40:18.450000",
     "exception": false,
     "start_time": "2025-09-05T03:40:18.434209",
     "status": "completed"
    },
    "tags": []
   },
   "outputs": [],
   "source": [
    "data[data.columns[5]] = data[data.columns[5]].map(no_yes_dict)"
   ]
  },
  {
   "cell_type": "code",
   "execution_count": 12,
   "id": "4885774f",
   "metadata": {
    "execution": {
     "iopub.execute_input": "2025-09-05T03:40:18.460168Z",
     "iopub.status.busy": "2025-09-05T03:40:18.459892Z",
     "iopub.status.idle": "2025-09-05T03:40:18.466743Z",
     "shell.execute_reply": "2025-09-05T03:40:18.465634Z"
    },
    "papermill": {
     "duration": 0.014059,
     "end_time": "2025-09-05T03:40:18.468443",
     "exception": false,
     "start_time": "2025-09-05T03:40:18.454384",
     "status": "completed"
    },
    "tags": []
   },
   "outputs": [],
   "source": [
    "data[data.columns[9]] = data[data.columns[9]].map(no_yes_dict)"
   ]
  },
  {
   "cell_type": "code",
   "execution_count": 13,
   "id": "52bc5d18",
   "metadata": {
    "execution": {
     "iopub.execute_input": "2025-09-05T03:40:18.478617Z",
     "iopub.status.busy": "2025-09-05T03:40:18.478345Z",
     "iopub.status.idle": "2025-09-05T03:40:18.490696Z",
     "shell.execute_reply": "2025-09-05T03:40:18.489509Z"
    },
    "papermill": {
     "duration": 0.019284,
     "end_time": "2025-09-05T03:40:18.492394",
     "exception": false,
     "start_time": "2025-09-05T03:40:18.473110",
     "status": "completed"
    },
    "tags": []
   },
   "outputs": [
    {
     "data": {
      "text/html": [
       "<div>\n",
       "<style scoped>\n",
       "    .dataframe tbody tr th:only-of-type {\n",
       "        vertical-align: middle;\n",
       "    }\n",
       "\n",
       "    .dataframe tbody tr th {\n",
       "        vertical-align: top;\n",
       "    }\n",
       "\n",
       "    .dataframe thead th {\n",
       "        text-align: right;\n",
       "    }\n",
       "</style>\n",
       "<table border=\"1\" class=\"dataframe\">\n",
       "  <thead>\n",
       "    <tr style=\"text-align: right;\">\n",
       "      <th></th>\n",
       "      <th>College_ID</th>\n",
       "      <th>IQ</th>\n",
       "      <th>Prev_Sem_Result</th>\n",
       "      <th>CGPA</th>\n",
       "      <th>Academic_Performance</th>\n",
       "      <th>Internship_Experience</th>\n",
       "      <th>Extra_Curricular_Score</th>\n",
       "      <th>Communication_Skills</th>\n",
       "      <th>Projects_Completed</th>\n",
       "      <th>Placement</th>\n",
       "    </tr>\n",
       "  </thead>\n",
       "  <tbody>\n",
       "    <tr>\n",
       "      <th>0</th>\n",
       "      <td>30</td>\n",
       "      <td>107</td>\n",
       "      <td>6.61</td>\n",
       "      <td>6.28</td>\n",
       "      <td>8</td>\n",
       "      <td>0</td>\n",
       "      <td>8</td>\n",
       "      <td>8</td>\n",
       "      <td>4</td>\n",
       "      <td>0</td>\n",
       "    </tr>\n",
       "    <tr>\n",
       "      <th>1</th>\n",
       "      <td>61</td>\n",
       "      <td>97</td>\n",
       "      <td>5.52</td>\n",
       "      <td>5.37</td>\n",
       "      <td>8</td>\n",
       "      <td>0</td>\n",
       "      <td>7</td>\n",
       "      <td>8</td>\n",
       "      <td>0</td>\n",
       "      <td>0</td>\n",
       "    </tr>\n",
       "    <tr>\n",
       "      <th>2</th>\n",
       "      <td>36</td>\n",
       "      <td>109</td>\n",
       "      <td>5.36</td>\n",
       "      <td>5.83</td>\n",
       "      <td>9</td>\n",
       "      <td>0</td>\n",
       "      <td>3</td>\n",
       "      <td>1</td>\n",
       "      <td>1</td>\n",
       "      <td>0</td>\n",
       "    </tr>\n",
       "    <tr>\n",
       "      <th>3</th>\n",
       "      <td>55</td>\n",
       "      <td>122</td>\n",
       "      <td>5.47</td>\n",
       "      <td>5.75</td>\n",
       "      <td>6</td>\n",
       "      <td>1</td>\n",
       "      <td>1</td>\n",
       "      <td>6</td>\n",
       "      <td>1</td>\n",
       "      <td>0</td>\n",
       "    </tr>\n",
       "    <tr>\n",
       "      <th>4</th>\n",
       "      <td>4</td>\n",
       "      <td>96</td>\n",
       "      <td>7.91</td>\n",
       "      <td>7.69</td>\n",
       "      <td>7</td>\n",
       "      <td>0</td>\n",
       "      <td>8</td>\n",
       "      <td>10</td>\n",
       "      <td>2</td>\n",
       "      <td>0</td>\n",
       "    </tr>\n",
       "  </tbody>\n",
       "</table>\n",
       "</div>"
      ],
      "text/plain": [
       "   College_ID   IQ  Prev_Sem_Result  CGPA  Academic_Performance  \\\n",
       "0          30  107             6.61  6.28                     8   \n",
       "1          61   97             5.52  5.37                     8   \n",
       "2          36  109             5.36  5.83                     9   \n",
       "3          55  122             5.47  5.75                     6   \n",
       "4           4   96             7.91  7.69                     7   \n",
       "\n",
       "   Internship_Experience  Extra_Curricular_Score  Communication_Skills  \\\n",
       "0                      0                       8                     8   \n",
       "1                      0                       7                     8   \n",
       "2                      0                       3                     1   \n",
       "3                      1                       1                     6   \n",
       "4                      0                       8                    10   \n",
       "\n",
       "   Projects_Completed  Placement  \n",
       "0                   4          0  \n",
       "1                   0          0  \n",
       "2                   1          0  \n",
       "3                   1          0  \n",
       "4                   2          0  "
      ]
     },
     "execution_count": 13,
     "metadata": {},
     "output_type": "execute_result"
    }
   ],
   "source": [
    "data.head()"
   ]
  },
  {
   "cell_type": "code",
   "execution_count": 14,
   "id": "c8d37d29",
   "metadata": {
    "execution": {
     "iopub.execute_input": "2025-09-05T03:40:18.502503Z",
     "iopub.status.busy": "2025-09-05T03:40:18.502229Z",
     "iopub.status.idle": "2025-09-05T03:40:18.513820Z",
     "shell.execute_reply": "2025-09-05T03:40:18.513028Z"
    },
    "papermill": {
     "duration": 0.018495,
     "end_time": "2025-09-05T03:40:18.515457",
     "exception": false,
     "start_time": "2025-09-05T03:40:18.496962",
     "status": "completed"
    },
    "tags": []
   },
   "outputs": [],
   "source": [
    "corr_data = data.corr()"
   ]
  },
  {
   "cell_type": "code",
   "execution_count": 15,
   "id": "bb5df9fb",
   "metadata": {
    "execution": {
     "iopub.execute_input": "2025-09-05T03:40:18.527668Z",
     "iopub.status.busy": "2025-09-05T03:40:18.526562Z",
     "iopub.status.idle": "2025-09-05T03:40:18.542132Z",
     "shell.execute_reply": "2025-09-05T03:40:18.541095Z"
    },
    "papermill": {
     "duration": 0.023508,
     "end_time": "2025-09-05T03:40:18.543523",
     "exception": false,
     "start_time": "2025-09-05T03:40:18.520015",
     "status": "completed"
    },
    "tags": []
   },
   "outputs": [
    {
     "data": {
      "text/html": [
       "<div>\n",
       "<style scoped>\n",
       "    .dataframe tbody tr th:only-of-type {\n",
       "        vertical-align: middle;\n",
       "    }\n",
       "\n",
       "    .dataframe tbody tr th {\n",
       "        vertical-align: top;\n",
       "    }\n",
       "\n",
       "    .dataframe thead th {\n",
       "        text-align: right;\n",
       "    }\n",
       "</style>\n",
       "<table border=\"1\" class=\"dataframe\">\n",
       "  <thead>\n",
       "    <tr style=\"text-align: right;\">\n",
       "      <th></th>\n",
       "      <th>College_ID</th>\n",
       "      <th>IQ</th>\n",
       "      <th>Prev_Sem_Result</th>\n",
       "      <th>CGPA</th>\n",
       "      <th>Academic_Performance</th>\n",
       "      <th>Internship_Experience</th>\n",
       "      <th>Extra_Curricular_Score</th>\n",
       "      <th>Communication_Skills</th>\n",
       "      <th>Projects_Completed</th>\n",
       "      <th>Placement</th>\n",
       "    </tr>\n",
       "  </thead>\n",
       "  <tbody>\n",
       "    <tr>\n",
       "      <th>College_ID</th>\n",
       "      <td>1.000000</td>\n",
       "      <td>0.002473</td>\n",
       "      <td>-0.004060</td>\n",
       "      <td>-0.003422</td>\n",
       "      <td>-0.015442</td>\n",
       "      <td>0.012037</td>\n",
       "      <td>-0.003931</td>\n",
       "      <td>-0.005194</td>\n",
       "      <td>0.004903</td>\n",
       "      <td>0.002750</td>\n",
       "    </tr>\n",
       "    <tr>\n",
       "      <th>IQ</th>\n",
       "      <td>0.002473</td>\n",
       "      <td>1.000000</td>\n",
       "      <td>-0.002640</td>\n",
       "      <td>-0.002859</td>\n",
       "      <td>-0.006827</td>\n",
       "      <td>-0.000247</td>\n",
       "      <td>-0.003458</td>\n",
       "      <td>-0.010896</td>\n",
       "      <td>0.014538</td>\n",
       "      <td>0.285914</td>\n",
       "    </tr>\n",
       "    <tr>\n",
       "      <th>Prev_Sem_Result</th>\n",
       "      <td>-0.004060</td>\n",
       "      <td>-0.002640</td>\n",
       "      <td>1.000000</td>\n",
       "      <td>0.980768</td>\n",
       "      <td>-0.005765</td>\n",
       "      <td>-0.013347</td>\n",
       "      <td>0.009326</td>\n",
       "      <td>-0.017269</td>\n",
       "      <td>0.018434</td>\n",
       "      <td>0.317896</td>\n",
       "    </tr>\n",
       "    <tr>\n",
       "      <th>CGPA</th>\n",
       "      <td>-0.003422</td>\n",
       "      <td>-0.002859</td>\n",
       "      <td>0.980768</td>\n",
       "      <td>1.000000</td>\n",
       "      <td>-0.002958</td>\n",
       "      <td>-0.012562</td>\n",
       "      <td>0.011441</td>\n",
       "      <td>-0.018242</td>\n",
       "      <td>0.020872</td>\n",
       "      <td>0.321607</td>\n",
       "    </tr>\n",
       "    <tr>\n",
       "      <th>Academic_Performance</th>\n",
       "      <td>-0.015442</td>\n",
       "      <td>-0.006827</td>\n",
       "      <td>-0.005765</td>\n",
       "      <td>-0.002958</td>\n",
       "      <td>1.000000</td>\n",
       "      <td>0.025903</td>\n",
       "      <td>0.011774</td>\n",
       "      <td>-0.019733</td>\n",
       "      <td>-0.013148</td>\n",
       "      <td>-0.014920</td>\n",
       "    </tr>\n",
       "    <tr>\n",
       "      <th>Internship_Experience</th>\n",
       "      <td>0.012037</td>\n",
       "      <td>-0.000247</td>\n",
       "      <td>-0.013347</td>\n",
       "      <td>-0.012562</td>\n",
       "      <td>0.025903</td>\n",
       "      <td>1.000000</td>\n",
       "      <td>0.002093</td>\n",
       "      <td>-0.020437</td>\n",
       "      <td>-0.010260</td>\n",
       "      <td>-0.005841</td>\n",
       "    </tr>\n",
       "    <tr>\n",
       "      <th>Extra_Curricular_Score</th>\n",
       "      <td>-0.003931</td>\n",
       "      <td>-0.003458</td>\n",
       "      <td>0.009326</td>\n",
       "      <td>0.011441</td>\n",
       "      <td>0.011774</td>\n",
       "      <td>0.002093</td>\n",
       "      <td>1.000000</td>\n",
       "      <td>0.003769</td>\n",
       "      <td>0.008122</td>\n",
       "      <td>-0.004740</td>\n",
       "    </tr>\n",
       "    <tr>\n",
       "      <th>Communication_Skills</th>\n",
       "      <td>-0.005194</td>\n",
       "      <td>-0.010896</td>\n",
       "      <td>-0.017269</td>\n",
       "      <td>-0.018242</td>\n",
       "      <td>-0.019733</td>\n",
       "      <td>-0.020437</td>\n",
       "      <td>0.003769</td>\n",
       "      <td>1.000000</td>\n",
       "      <td>-0.004486</td>\n",
       "      <td>0.323155</td>\n",
       "    </tr>\n",
       "    <tr>\n",
       "      <th>Projects_Completed</th>\n",
       "      <td>0.004903</td>\n",
       "      <td>0.014538</td>\n",
       "      <td>0.018434</td>\n",
       "      <td>0.020872</td>\n",
       "      <td>-0.013148</td>\n",
       "      <td>-0.010260</td>\n",
       "      <td>0.008122</td>\n",
       "      <td>-0.004486</td>\n",
       "      <td>1.000000</td>\n",
       "      <td>0.217499</td>\n",
       "    </tr>\n",
       "    <tr>\n",
       "      <th>Placement</th>\n",
       "      <td>0.002750</td>\n",
       "      <td>0.285914</td>\n",
       "      <td>0.317896</td>\n",
       "      <td>0.321607</td>\n",
       "      <td>-0.014920</td>\n",
       "      <td>-0.005841</td>\n",
       "      <td>-0.004740</td>\n",
       "      <td>0.323155</td>\n",
       "      <td>0.217499</td>\n",
       "      <td>1.000000</td>\n",
       "    </tr>\n",
       "  </tbody>\n",
       "</table>\n",
       "</div>"
      ],
      "text/plain": [
       "                        College_ID        IQ  Prev_Sem_Result      CGPA  \\\n",
       "College_ID                1.000000  0.002473        -0.004060 -0.003422   \n",
       "IQ                        0.002473  1.000000        -0.002640 -0.002859   \n",
       "Prev_Sem_Result          -0.004060 -0.002640         1.000000  0.980768   \n",
       "CGPA                     -0.003422 -0.002859         0.980768  1.000000   \n",
       "Academic_Performance     -0.015442 -0.006827        -0.005765 -0.002958   \n",
       "Internship_Experience     0.012037 -0.000247        -0.013347 -0.012562   \n",
       "Extra_Curricular_Score   -0.003931 -0.003458         0.009326  0.011441   \n",
       "Communication_Skills     -0.005194 -0.010896        -0.017269 -0.018242   \n",
       "Projects_Completed        0.004903  0.014538         0.018434  0.020872   \n",
       "Placement                 0.002750  0.285914         0.317896  0.321607   \n",
       "\n",
       "                        Academic_Performance  Internship_Experience  \\\n",
       "College_ID                         -0.015442               0.012037   \n",
       "IQ                                 -0.006827              -0.000247   \n",
       "Prev_Sem_Result                    -0.005765              -0.013347   \n",
       "CGPA                               -0.002958              -0.012562   \n",
       "Academic_Performance                1.000000               0.025903   \n",
       "Internship_Experience               0.025903               1.000000   \n",
       "Extra_Curricular_Score              0.011774               0.002093   \n",
       "Communication_Skills               -0.019733              -0.020437   \n",
       "Projects_Completed                 -0.013148              -0.010260   \n",
       "Placement                          -0.014920              -0.005841   \n",
       "\n",
       "                        Extra_Curricular_Score  Communication_Skills  \\\n",
       "College_ID                           -0.003931             -0.005194   \n",
       "IQ                                   -0.003458             -0.010896   \n",
       "Prev_Sem_Result                       0.009326             -0.017269   \n",
       "CGPA                                  0.011441             -0.018242   \n",
       "Academic_Performance                  0.011774             -0.019733   \n",
       "Internship_Experience                 0.002093             -0.020437   \n",
       "Extra_Curricular_Score                1.000000              0.003769   \n",
       "Communication_Skills                  0.003769              1.000000   \n",
       "Projects_Completed                    0.008122             -0.004486   \n",
       "Placement                            -0.004740              0.323155   \n",
       "\n",
       "                        Projects_Completed  Placement  \n",
       "College_ID                        0.004903   0.002750  \n",
       "IQ                                0.014538   0.285914  \n",
       "Prev_Sem_Result                   0.018434   0.317896  \n",
       "CGPA                              0.020872   0.321607  \n",
       "Academic_Performance             -0.013148  -0.014920  \n",
       "Internship_Experience            -0.010260  -0.005841  \n",
       "Extra_Curricular_Score            0.008122  -0.004740  \n",
       "Communication_Skills             -0.004486   0.323155  \n",
       "Projects_Completed                1.000000   0.217499  \n",
       "Placement                         0.217499   1.000000  "
      ]
     },
     "execution_count": 15,
     "metadata": {},
     "output_type": "execute_result"
    }
   ],
   "source": [
    "corr_data"
   ]
  },
  {
   "cell_type": "code",
   "execution_count": 16,
   "id": "5d4d1a75",
   "metadata": {
    "execution": {
     "iopub.execute_input": "2025-09-05T03:40:18.554651Z",
     "iopub.status.busy": "2025-09-05T03:40:18.554205Z",
     "iopub.status.idle": "2025-09-05T03:40:18.562366Z",
     "shell.execute_reply": "2025-09-05T03:40:18.561142Z"
    },
    "papermill": {
     "duration": 0.01575,
     "end_time": "2025-09-05T03:40:18.564064",
     "exception": false,
     "start_time": "2025-09-05T03:40:18.548314",
     "status": "completed"
    },
    "tags": []
   },
   "outputs": [],
   "source": [
    "feature_selected_data = data[[data.columns[1],data.columns[2],data.columns[3],data.columns[7],data.columns[8],data.columns[9]]]"
   ]
  },
  {
   "cell_type": "code",
   "execution_count": 17,
   "id": "0272ae14",
   "metadata": {
    "execution": {
     "iopub.execute_input": "2025-09-05T03:40:18.575245Z",
     "iopub.status.busy": "2025-09-05T03:40:18.574927Z",
     "iopub.status.idle": "2025-09-05T03:40:18.588588Z",
     "shell.execute_reply": "2025-09-05T03:40:18.587691Z"
    },
    "papermill": {
     "duration": 0.020905,
     "end_time": "2025-09-05T03:40:18.589998",
     "exception": false,
     "start_time": "2025-09-05T03:40:18.569093",
     "status": "completed"
    },
    "tags": []
   },
   "outputs": [
    {
     "data": {
      "text/html": [
       "<div>\n",
       "<style scoped>\n",
       "    .dataframe tbody tr th:only-of-type {\n",
       "        vertical-align: middle;\n",
       "    }\n",
       "\n",
       "    .dataframe tbody tr th {\n",
       "        vertical-align: top;\n",
       "    }\n",
       "\n",
       "    .dataframe thead th {\n",
       "        text-align: right;\n",
       "    }\n",
       "</style>\n",
       "<table border=\"1\" class=\"dataframe\">\n",
       "  <thead>\n",
       "    <tr style=\"text-align: right;\">\n",
       "      <th></th>\n",
       "      <th>IQ</th>\n",
       "      <th>Prev_Sem_Result</th>\n",
       "      <th>CGPA</th>\n",
       "      <th>Communication_Skills</th>\n",
       "      <th>Projects_Completed</th>\n",
       "      <th>Placement</th>\n",
       "    </tr>\n",
       "  </thead>\n",
       "  <tbody>\n",
       "    <tr>\n",
       "      <th>0</th>\n",
       "      <td>107</td>\n",
       "      <td>6.61</td>\n",
       "      <td>6.28</td>\n",
       "      <td>8</td>\n",
       "      <td>4</td>\n",
       "      <td>0</td>\n",
       "    </tr>\n",
       "    <tr>\n",
       "      <th>1</th>\n",
       "      <td>97</td>\n",
       "      <td>5.52</td>\n",
       "      <td>5.37</td>\n",
       "      <td>8</td>\n",
       "      <td>0</td>\n",
       "      <td>0</td>\n",
       "    </tr>\n",
       "    <tr>\n",
       "      <th>2</th>\n",
       "      <td>109</td>\n",
       "      <td>5.36</td>\n",
       "      <td>5.83</td>\n",
       "      <td>1</td>\n",
       "      <td>1</td>\n",
       "      <td>0</td>\n",
       "    </tr>\n",
       "    <tr>\n",
       "      <th>3</th>\n",
       "      <td>122</td>\n",
       "      <td>5.47</td>\n",
       "      <td>5.75</td>\n",
       "      <td>6</td>\n",
       "      <td>1</td>\n",
       "      <td>0</td>\n",
       "    </tr>\n",
       "    <tr>\n",
       "      <th>4</th>\n",
       "      <td>96</td>\n",
       "      <td>7.91</td>\n",
       "      <td>7.69</td>\n",
       "      <td>10</td>\n",
       "      <td>2</td>\n",
       "      <td>0</td>\n",
       "    </tr>\n",
       "    <tr>\n",
       "      <th>...</th>\n",
       "      <td>...</td>\n",
       "      <td>...</td>\n",
       "      <td>...</td>\n",
       "      <td>...</td>\n",
       "      <td>...</td>\n",
       "      <td>...</td>\n",
       "    </tr>\n",
       "    <tr>\n",
       "      <th>9995</th>\n",
       "      <td>119</td>\n",
       "      <td>8.41</td>\n",
       "      <td>8.29</td>\n",
       "      <td>8</td>\n",
       "      <td>0</td>\n",
       "      <td>1</td>\n",
       "    </tr>\n",
       "    <tr>\n",
       "      <th>9996</th>\n",
       "      <td>70</td>\n",
       "      <td>9.25</td>\n",
       "      <td>9.34</td>\n",
       "      <td>7</td>\n",
       "      <td>2</td>\n",
       "      <td>0</td>\n",
       "    </tr>\n",
       "    <tr>\n",
       "      <th>9997</th>\n",
       "      <td>89</td>\n",
       "      <td>6.08</td>\n",
       "      <td>6.25</td>\n",
       "      <td>9</td>\n",
       "      <td>5</td>\n",
       "      <td>0</td>\n",
       "    </tr>\n",
       "    <tr>\n",
       "      <th>9998</th>\n",
       "      <td>107</td>\n",
       "      <td>8.77</td>\n",
       "      <td>8.92</td>\n",
       "      <td>5</td>\n",
       "      <td>1</td>\n",
       "      <td>0</td>\n",
       "    </tr>\n",
       "    <tr>\n",
       "      <th>9999</th>\n",
       "      <td>109</td>\n",
       "      <td>9.41</td>\n",
       "      <td>9.77</td>\n",
       "      <td>5</td>\n",
       "      <td>5</td>\n",
       "      <td>0</td>\n",
       "    </tr>\n",
       "  </tbody>\n",
       "</table>\n",
       "<p>10000 rows × 6 columns</p>\n",
       "</div>"
      ],
      "text/plain": [
       "       IQ  Prev_Sem_Result  CGPA  Communication_Skills  Projects_Completed  \\\n",
       "0     107             6.61  6.28                     8                   4   \n",
       "1      97             5.52  5.37                     8                   0   \n",
       "2     109             5.36  5.83                     1                   1   \n",
       "3     122             5.47  5.75                     6                   1   \n",
       "4      96             7.91  7.69                    10                   2   \n",
       "...   ...              ...   ...                   ...                 ...   \n",
       "9995  119             8.41  8.29                     8                   0   \n",
       "9996   70             9.25  9.34                     7                   2   \n",
       "9997   89             6.08  6.25                     9                   5   \n",
       "9998  107             8.77  8.92                     5                   1   \n",
       "9999  109             9.41  9.77                     5                   5   \n",
       "\n",
       "      Placement  \n",
       "0             0  \n",
       "1             0  \n",
       "2             0  \n",
       "3             0  \n",
       "4             0  \n",
       "...         ...  \n",
       "9995          1  \n",
       "9996          0  \n",
       "9997          0  \n",
       "9998          0  \n",
       "9999          0  \n",
       "\n",
       "[10000 rows x 6 columns]"
      ]
     },
     "execution_count": 17,
     "metadata": {},
     "output_type": "execute_result"
    }
   ],
   "source": [
    "feature_selected_data"
   ]
  },
  {
   "cell_type": "code",
   "execution_count": 18,
   "id": "edfc8fda",
   "metadata": {
    "execution": {
     "iopub.execute_input": "2025-09-05T03:40:18.602270Z",
     "iopub.status.busy": "2025-09-05T03:40:18.601948Z",
     "iopub.status.idle": "2025-09-05T03:40:18.608888Z",
     "shell.execute_reply": "2025-09-05T03:40:18.607826Z"
    },
    "papermill": {
     "duration": 0.0149,
     "end_time": "2025-09-05T03:40:18.610729",
     "exception": false,
     "start_time": "2025-09-05T03:40:18.595829",
     "status": "completed"
    },
    "tags": []
   },
   "outputs": [],
   "source": [
    "placement_equals_1 = data[data[data.columns[-1]] == 1].shape[0]/data.shape[0]"
   ]
  },
  {
   "cell_type": "code",
   "execution_count": 19,
   "id": "786c8827",
   "metadata": {
    "execution": {
     "iopub.execute_input": "2025-09-05T03:40:18.621878Z",
     "iopub.status.busy": "2025-09-05T03:40:18.621456Z",
     "iopub.status.idle": "2025-09-05T03:40:18.627732Z",
     "shell.execute_reply": "2025-09-05T03:40:18.626349Z"
    },
    "papermill": {
     "duration": 0.01359,
     "end_time": "2025-09-05T03:40:18.629271",
     "exception": false,
     "start_time": "2025-09-05T03:40:18.615681",
     "status": "completed"
    },
    "tags": []
   },
   "outputs": [
    {
     "data": {
      "text/plain": [
       "0.1659"
      ]
     },
     "execution_count": 19,
     "metadata": {},
     "output_type": "execute_result"
    }
   ],
   "source": [
    "placement_equals_1"
   ]
  },
  {
   "cell_type": "code",
   "execution_count": null,
   "id": "eeed461d",
   "metadata": {
    "papermill": {
     "duration": 0.005028,
     "end_time": "2025-09-05T03:40:18.639587",
     "exception": false,
     "start_time": "2025-09-05T03:40:18.634559",
     "status": "completed"
    },
    "tags": []
   },
   "outputs": [],
   "source": []
  }
 ],
 "metadata": {
  "kaggle": {
   "accelerator": "none",
   "dataSources": [
    {
     "datasetId": 7785114,
     "sourceId": 12349003,
     "sourceType": "datasetVersion"
    }
   ],
   "dockerImageVersionId": 31089,
   "isGpuEnabled": false,
   "isInternetEnabled": true,
   "language": "python",
   "sourceType": "notebook"
  },
  "kernelspec": {
   "display_name": "Python 3",
   "language": "python",
   "name": "python3"
  },
  "language_info": {
   "codemirror_mode": {
    "name": "ipython",
    "version": 3
   },
   "file_extension": ".py",
   "mimetype": "text/x-python",
   "name": "python",
   "nbconvert_exporter": "python",
   "pygments_lexer": "ipython3",
   "version": "3.11.13"
  },
  "papermill": {
   "default_parameters": {},
   "duration": 10.414257,
   "end_time": "2025-09-05T03:40:19.365928",
   "environment_variables": {},
   "exception": null,
   "input_path": "__notebook__.ipynb",
   "output_path": "__notebook__.ipynb",
   "parameters": {},
   "start_time": "2025-09-05T03:40:08.951671",
   "version": "2.6.0"
  }
 },
 "nbformat": 4,
 "nbformat_minor": 5
}
